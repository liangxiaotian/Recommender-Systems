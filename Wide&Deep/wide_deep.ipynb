{
  "nbformat": 4,
  "nbformat_minor": 0,
  "metadata": {
    "colab": {
      "name": "wide_deep.ipynb",
      "provenance": [],
      "collapsed_sections": []
    },
    "kernelspec": {
      "name": "python3",
      "display_name": "Python 3"
    },
    "language_info": {
      "name": "python"
    }
  },
  "cells": [
    {
      "cell_type": "code",
      "metadata": {
        "colab": {
          "base_uri": "https://localhost:8080/"
        },
        "id": "2KJxxUH67a7A",
        "outputId": "f6b26b27-a547-43a0-8aca-7f4407ae2f38"
      },
      "source": [
        "from google.colab import drive\n",
        "drive.mount('/content/drive')\n",
        "!ls"
      ],
      "execution_count": 8,
      "outputs": [
        {
          "output_type": "stream",
          "text": [
            "Mounted at /content/drive\n",
            "drive  sample_data\n"
          ],
          "name": "stdout"
        }
      ]
    },
    {
      "cell_type": "code",
      "metadata": {
        "id": "-IAhwKLh6Md3"
      },
      "source": [
        "import tensorflow as tf\n",
        "from tensorflow import keras\n",
        "from tensorflow.keras.layers import Dense, Layer, Dropout\n",
        "from tensorflow.keras.experimental import LinearModel, WideDeepModel\n",
        "import pandas as pd\n",
        "import numpy as np"
      ],
      "execution_count": 32,
      "outputs": []
    },
    {
      "cell_type": "code",
      "metadata": {
        "id": "jBEcqpvU6SOD"
      },
      "source": [
        "# simple inputs\n",
        "linear_inputs = np.random.random((2, 3)) # batch_size, input\n",
        "dnn_inputs = np.random.random((2, 3))\n",
        "y = np.random.randint(0, 2, (2, 2))"
      ],
      "execution_count": 33,
      "outputs": []
    },
    {
      "cell_type": "code",
      "metadata": {
        "colab": {
          "base_uri": "https://localhost:8080/"
        },
        "id": "Kr9vpqS-8ANz",
        "outputId": "8ff2c344-fa20-4243-ddaa-d488ccc4d4f8"
      },
      "source": [
        "linear_inputs, dnn_inputs, y"
      ],
      "execution_count": 34,
      "outputs": [
        {
          "output_type": "execute_result",
          "data": {
            "text/plain": [
              "(array([[0.4199653 , 0.56434104, 0.7412466 ],\n",
              "        [0.42509127, 0.5637424 , 0.82399874]]),\n",
              " array([[0.83902317, 0.1096448 , 0.59759885],\n",
              "        [0.94617234, 0.58201455, 0.57216193]]),\n",
              " array([[1, 0],\n",
              "        [0, 1]]))"
            ]
          },
          "metadata": {
            "tags": []
          },
          "execution_count": 34
        }
      ]
    },
    {
      "cell_type": "code",
      "metadata": {
        "id": "WqBCrYh99fRL"
      },
      "source": [
        "# dataset：criteo dataset sample\n",
        "\"\"\"\n",
        "Created on July 13, 2020\n",
        "dataset：criteo dataset sample\n",
        "features：\n",
        "- Label - Target variable that indicates if an ad was clicked (1) or not (0).\n",
        "- I1-I13 - A total of 13 columns of integer features (mostly count features).\n",
        "- C1-C26 - A total of 26 columns of categorical features.\n",
        "The values of these features have been hashed onto 32 bits for anonymization purposes.\n",
        "@author: Ziyao Geng(zggzy1996@163.com)\n",
        "\"\"\"\n",
        "\n",
        "import pandas as pd\n",
        "import numpy as np\n",
        "\n",
        "from sklearn.preprocessing import LabelEncoder, KBinsDiscretizer\n",
        "from sklearn.model_selection import train_test_split\n",
        "\n",
        "\n",
        "def create_criteo_dataset(file, embed_dim=8, read_part=True, sample_num=100000, test_size=0.2):\n",
        "    \"\"\"\n",
        "    a example about creating criteo dataset\n",
        "    :param file: dataset's path\n",
        "    :param embed_dim: the embedding dimension of sparse features\n",
        "    :param read_part: whether to read part of it\n",
        "    :param sample_num: the number of instances if read_part is True\n",
        "    :param test_size: ratio of test dataset\n",
        "    :return: feature columns, train, test\n",
        "    \"\"\"\n",
        "    names = ['label', 'I1', 'I2', 'I3', 'I4', 'I5', 'I6', 'I7', 'I8', 'I9', 'I10', 'I11',\n",
        "             'I12', 'I13', 'C1', 'C2', 'C3', 'C4', 'C5', 'C6', 'C7', 'C8', 'C9', 'C10', 'C11',\n",
        "             'C12', 'C13', 'C14', 'C15', 'C16', 'C17', 'C18', 'C19', 'C20', 'C21', 'C22',\n",
        "             'C23', 'C24', 'C25', 'C26']\n",
        "\n",
        "    if read_part:\n",
        "        data_df = pd.read_csv(file, sep='\\t', iterator=True, header=None,\n",
        "                          names=names)\n",
        "        data_df = data_df.get_chunk(sample_num)\n",
        "\n",
        "    else:\n",
        "        data_df = pd.read_csv(file, sep='\\t', header=None, names=names)\n",
        "\n",
        "    sparse_features = ['C' + str(i) for i in range(1, 27)] \n",
        "    dense_features = ['I' + str(i) for i in range(1, 14)]\n",
        "    features = sparse_features + dense_features # 训练使用的特征\n",
        "\n",
        "    data_df[sparse_features] = data_df[sparse_features].fillna('-1')\n",
        "    data_df[dense_features] = data_df[dense_features].fillna(0)\n",
        "\n",
        "    # Bin continuous data into intervals. 连续型特征分箱\n",
        "    est = KBinsDiscretizer(n_bins=100, encode='ordinal', strategy='uniform')\n",
        "    data_df[dense_features] = est.fit_transform(data_df[dense_features])\n",
        "    # 稀疏（类别）特征编码为label\n",
        "    for feat in sparse_features:\n",
        "        le = LabelEncoder()\n",
        "        data_df[feat] = le.fit_transform(data_df[feat])\n",
        "\n",
        "    # ==============Feature Engineering===================\n",
        "\n",
        "    # feature_columns = [sparseFeature(feat, int(data_df[feat].max()) + 1, embed_dim=embed_dim)\n",
        "    #                     for feat in features] # \n",
        "    train, test = train_test_split(data_df, test_size=test_size)\n",
        "\n",
        "    train_X = train[features]# .values.astype('int32')\n",
        "    train_y = train['label']#.values.astype('int32')\n",
        "    test_X = test[features]#.values.astype('int32')\n",
        "    test_y = test['label']#.values.astype('int32')\n",
        "\n",
        "    return sparse_features, dense_features, (train_X, train_y), (test_X, test_y)"
      ],
      "execution_count": 35,
      "outputs": []
    },
    {
      "cell_type": "code",
      "metadata": {
        "id": "pMDvELah-Op1"
      },
      "source": [
        "file = '/content/drive/MyDrive/Colab Notebooks/wide_deep_model/data/dac_sample.txt'"
      ],
      "execution_count": 36,
      "outputs": []
    },
    {
      "cell_type": "code",
      "metadata": {
        "id": "uIMVKjvoB4is"
      },
      "source": [
        "read_part = True\n",
        "sample_num = 5000000\n",
        "test_size = 0.2\n",
        "embed_dim = 8"
      ],
      "execution_count": 37,
      "outputs": []
    },
    {
      "cell_type": "code",
      "metadata": {
        "id": "7kddH5Gm-Y2f"
      },
      "source": [
        "sparse_features, dense_features, train, test = create_criteo_dataset(file=file,\n",
        "                        embed_dim=embed_dim,\n",
        "                        read_part=read_part,\n",
        "                        sample_num=sample_num,\n",
        "                        test_size=test_size)\n",
        "train_X, train_y = train\n",
        "test_X, test_y = test"
      ],
      "execution_count": 38,
      "outputs": []
    },
    {
      "cell_type": "code",
      "metadata": {
        "colab": {
          "base_uri": "https://localhost:8080/",
          "height": 223
        },
        "id": "rAFFsthQCdvi",
        "outputId": "9a909f8b-53c9-4d8b-9358-38fee5badee2"
      },
      "source": [
        "train_X.head()"
      ],
      "execution_count": 39,
      "outputs": [
        {
          "output_type": "execute_result",
          "data": {
            "text/html": [
              "<div>\n",
              "<style scoped>\n",
              "    .dataframe tbody tr th:only-of-type {\n",
              "        vertical-align: middle;\n",
              "    }\n",
              "\n",
              "    .dataframe tbody tr th {\n",
              "        vertical-align: top;\n",
              "    }\n",
              "\n",
              "    .dataframe thead th {\n",
              "        text-align: right;\n",
              "    }\n",
              "</style>\n",
              "<table border=\"1\" class=\"dataframe\">\n",
              "  <thead>\n",
              "    <tr style=\"text-align: right;\">\n",
              "      <th></th>\n",
              "      <th>C1</th>\n",
              "      <th>C2</th>\n",
              "      <th>C3</th>\n",
              "      <th>C4</th>\n",
              "      <th>C5</th>\n",
              "      <th>C6</th>\n",
              "      <th>C7</th>\n",
              "      <th>C8</th>\n",
              "      <th>C9</th>\n",
              "      <th>C10</th>\n",
              "      <th>C11</th>\n",
              "      <th>C12</th>\n",
              "      <th>C13</th>\n",
              "      <th>C14</th>\n",
              "      <th>C15</th>\n",
              "      <th>C16</th>\n",
              "      <th>C17</th>\n",
              "      <th>C18</th>\n",
              "      <th>C19</th>\n",
              "      <th>C20</th>\n",
              "      <th>C21</th>\n",
              "      <th>C22</th>\n",
              "      <th>C23</th>\n",
              "      <th>C24</th>\n",
              "      <th>C25</th>\n",
              "      <th>C26</th>\n",
              "      <th>I1</th>\n",
              "      <th>I2</th>\n",
              "      <th>I3</th>\n",
              "      <th>I4</th>\n",
              "      <th>I5</th>\n",
              "      <th>I6</th>\n",
              "      <th>I7</th>\n",
              "      <th>I8</th>\n",
              "      <th>I9</th>\n",
              "      <th>I10</th>\n",
              "      <th>I11</th>\n",
              "      <th>I12</th>\n",
              "      <th>I13</th>\n",
              "    </tr>\n",
              "  </thead>\n",
              "  <tbody>\n",
              "    <tr>\n",
              "      <th>91744</th>\n",
              "      <td>8</td>\n",
              "      <td>59</td>\n",
              "      <td>6483</td>\n",
              "      <td>4115</td>\n",
              "      <td>23</td>\n",
              "      <td>11</td>\n",
              "      <td>3539</td>\n",
              "      <td>8</td>\n",
              "      <td>2</td>\n",
              "      <td>10746</td>\n",
              "      <td>2290</td>\n",
              "      <td>39292</td>\n",
              "      <td>1321</td>\n",
              "      <td>20</td>\n",
              "      <td>4099</td>\n",
              "      <td>13584</td>\n",
              "      <td>0</td>\n",
              "      <td>2318</td>\n",
              "      <td>337</td>\n",
              "      <td>2</td>\n",
              "      <td>19127</td>\n",
              "      <td>0</td>\n",
              "      <td>2</td>\n",
              "      <td>3041</td>\n",
              "      <td>36</td>\n",
              "      <td>3658</td>\n",
              "      <td>0.0</td>\n",
              "      <td>5.0</td>\n",
              "      <td>0.0</td>\n",
              "      <td>0.0</td>\n",
              "      <td>1.0</td>\n",
              "      <td>0.0</td>\n",
              "      <td>0.0</td>\n",
              "      <td>0.0</td>\n",
              "      <td>0.0</td>\n",
              "      <td>0.0</td>\n",
              "      <td>0.0</td>\n",
              "      <td>0.0</td>\n",
              "      <td>0.0</td>\n",
              "    </tr>\n",
              "    <tr>\n",
              "      <th>82342</th>\n",
              "      <td>357</td>\n",
              "      <td>249</td>\n",
              "      <td>489</td>\n",
              "      <td>19188</td>\n",
              "      <td>23</td>\n",
              "      <td>10</td>\n",
              "      <td>7138</td>\n",
              "      <td>86</td>\n",
              "      <td>2</td>\n",
              "      <td>7338</td>\n",
              "      <td>1269</td>\n",
              "      <td>23282</td>\n",
              "      <td>637</td>\n",
              "      <td>2</td>\n",
              "      <td>1364</td>\n",
              "      <td>7353</td>\n",
              "      <td>9</td>\n",
              "      <td>836</td>\n",
              "      <td>0</td>\n",
              "      <td>0</td>\n",
              "      <td>34644</td>\n",
              "      <td>0</td>\n",
              "      <td>1</td>\n",
              "      <td>2818</td>\n",
              "      <td>0</td>\n",
              "      <td>0</td>\n",
              "      <td>0.0</td>\n",
              "      <td>0.0</td>\n",
              "      <td>0.0</td>\n",
              "      <td>1.0</td>\n",
              "      <td>0.0</td>\n",
              "      <td>0.0</td>\n",
              "      <td>0.0</td>\n",
              "      <td>0.0</td>\n",
              "      <td>0.0</td>\n",
              "      <td>16.0</td>\n",
              "      <td>0.0</td>\n",
              "      <td>0.0</td>\n",
              "      <td>0.0</td>\n",
              "    </tr>\n",
              "    <tr>\n",
              "      <th>45329</th>\n",
              "      <td>192</td>\n",
              "      <td>115</td>\n",
              "      <td>33640</td>\n",
              "      <td>3622</td>\n",
              "      <td>23</td>\n",
              "      <td>5</td>\n",
              "      <td>4635</td>\n",
              "      <td>8</td>\n",
              "      <td>2</td>\n",
              "      <td>2505</td>\n",
              "      <td>837</td>\n",
              "      <td>39086</td>\n",
              "      <td>477</td>\n",
              "      <td>4</td>\n",
              "      <td>4606</td>\n",
              "      <td>21283</td>\n",
              "      <td>8</td>\n",
              "      <td>882</td>\n",
              "      <td>150</td>\n",
              "      <td>1</td>\n",
              "      <td>3518</td>\n",
              "      <td>0</td>\n",
              "      <td>10</td>\n",
              "      <td>10507</td>\n",
              "      <td>1</td>\n",
              "      <td>6054</td>\n",
              "      <td>0.0</td>\n",
              "      <td>3.0</td>\n",
              "      <td>0.0</td>\n",
              "      <td>1.0</td>\n",
              "      <td>1.0</td>\n",
              "      <td>0.0</td>\n",
              "      <td>0.0</td>\n",
              "      <td>0.0</td>\n",
              "      <td>0.0</td>\n",
              "      <td>0.0</td>\n",
              "      <td>0.0</td>\n",
              "      <td>0.0</td>\n",
              "      <td>0.0</td>\n",
              "    </tr>\n",
              "    <tr>\n",
              "      <th>91668</th>\n",
              "      <td>8</td>\n",
              "      <td>21</td>\n",
              "      <td>35972</td>\n",
              "      <td>8396</td>\n",
              "      <td>23</td>\n",
              "      <td>0</td>\n",
              "      <td>6059</td>\n",
              "      <td>194</td>\n",
              "      <td>2</td>\n",
              "      <td>2505</td>\n",
              "      <td>2539</td>\n",
              "      <td>23385</td>\n",
              "      <td>1744</td>\n",
              "      <td>4</td>\n",
              "      <td>4464</td>\n",
              "      <td>1428</td>\n",
              "      <td>9</td>\n",
              "      <td>911</td>\n",
              "      <td>150</td>\n",
              "      <td>3</td>\n",
              "      <td>24334</td>\n",
              "      <td>0</td>\n",
              "      <td>1</td>\n",
              "      <td>7513</td>\n",
              "      <td>41</td>\n",
              "      <td>8774</td>\n",
              "      <td>0.0</td>\n",
              "      <td>0.0</td>\n",
              "      <td>0.0</td>\n",
              "      <td>0.0</td>\n",
              "      <td>0.0</td>\n",
              "      <td>0.0</td>\n",
              "      <td>0.0</td>\n",
              "      <td>0.0</td>\n",
              "      <td>0.0</td>\n",
              "      <td>0.0</td>\n",
              "      <td>2.0</td>\n",
              "      <td>0.0</td>\n",
              "      <td>0.0</td>\n",
              "    </tr>\n",
              "    <tr>\n",
              "      <th>48653</th>\n",
              "      <td>390</td>\n",
              "      <td>250</td>\n",
              "      <td>27091</td>\n",
              "      <td>15841</td>\n",
              "      <td>51</td>\n",
              "      <td>5</td>\n",
              "      <td>2151</td>\n",
              "      <td>8</td>\n",
              "      <td>2</td>\n",
              "      <td>5390</td>\n",
              "      <td>2222</td>\n",
              "      <td>9677</td>\n",
              "      <td>233</td>\n",
              "      <td>4</td>\n",
              "      <td>2809</td>\n",
              "      <td>1924</td>\n",
              "      <td>8</td>\n",
              "      <td>2422</td>\n",
              "      <td>150</td>\n",
              "      <td>3</td>\n",
              "      <td>17711</td>\n",
              "      <td>0</td>\n",
              "      <td>3</td>\n",
              "      <td>1110</td>\n",
              "      <td>41</td>\n",
              "      <td>4125</td>\n",
              "      <td>0.0</td>\n",
              "      <td>0.0</td>\n",
              "      <td>0.0</td>\n",
              "      <td>0.0</td>\n",
              "      <td>0.0</td>\n",
              "      <td>1.0</td>\n",
              "      <td>0.0</td>\n",
              "      <td>0.0</td>\n",
              "      <td>0.0</td>\n",
              "      <td>0.0</td>\n",
              "      <td>1.0</td>\n",
              "      <td>0.0</td>\n",
              "      <td>0.0</td>\n",
              "    </tr>\n",
              "  </tbody>\n",
              "</table>\n",
              "</div>"
            ],
            "text/plain": [
              "        C1   C2     C3     C4  C5  C6    C7  ...   I7   I8   I9   I10  I11  I12  I13\n",
              "91744    8   59   6483   4115  23  11  3539  ...  0.0  0.0  0.0   0.0  0.0  0.0  0.0\n",
              "82342  357  249    489  19188  23  10  7138  ...  0.0  0.0  0.0  16.0  0.0  0.0  0.0\n",
              "45329  192  115  33640   3622  23   5  4635  ...  0.0  0.0  0.0   0.0  0.0  0.0  0.0\n",
              "91668    8   21  35972   8396  23   0  6059  ...  0.0  0.0  0.0   0.0  2.0  0.0  0.0\n",
              "48653  390  250  27091  15841  51   5  2151  ...  0.0  0.0  0.0   0.0  1.0  0.0  0.0\n",
              "\n",
              "[5 rows x 39 columns]"
            ]
          },
          "metadata": {
            "tags": []
          },
          "execution_count": 39
        }
      ]
    },
    {
      "cell_type": "code",
      "metadata": {
        "id": "iN1OxQ1mJ55l"
      },
      "source": [
        "linear_inputs = train_X[sparse_features].values.astype('int32')\n",
        "dnn_inputs = train_X[dense_features].values.astype('int32')\n",
        "y = train_y.values.astype('int32')"
      ],
      "execution_count": 40,
      "outputs": []
    },
    {
      "cell_type": "code",
      "metadata": {
        "id": "4Lo45GhG0mbQ"
      },
      "source": [
        "test_linear_inputs = test_X[sparse_features].values.astype('int32')\n",
        "test_dnn_inputs = test_X[dense_features].values.astype('int32')\n",
        "test_y = test_y.values.astype('int32')"
      ],
      "execution_count": 41,
      "outputs": []
    },
    {
      "cell_type": "code",
      "metadata": {
        "colab": {
          "base_uri": "https://localhost:8080/"
        },
        "id": "HFgwr8mYaQmr",
        "outputId": "9c4da60a-f0c9-4cff-cfe5-291050087fca"
      },
      "source": [
        "linear_inputs.shape, dnn_inputs.shape, y.shape"
      ],
      "execution_count": 42,
      "outputs": [
        {
          "output_type": "execute_result",
          "data": {
            "text/plain": [
              "((80000, 26), (80000, 13), (80000,))"
            ]
          },
          "metadata": {
            "tags": []
          },
          "execution_count": 42
        }
      ]
    },
    {
      "cell_type": "code",
      "metadata": {
        "id": "W4V1wbk76XY9"
      },
      "source": [
        "# wide model\n",
        "linear_model = LinearModel()"
      ],
      "execution_count": 43,
      "outputs": []
    },
    {
      "cell_type": "code",
      "metadata": {
        "id": "KQkMkjoC_nP7"
      },
      "source": [
        "# deep model\n",
        "dnn_model = tf.keras.Sequential()\n",
        "dnn_model.add(tf.keras.layers.Embedding(input_dim=100, output_dim=8, input_length=len(dense_features)))\n",
        "dnn_model.add(tf.keras.layers.Flatten()) # or concat embedding layers"
      ],
      "execution_count": 44,
      "outputs": []
    },
    {
      "cell_type": "code",
      "metadata": {
        "id": "pzwv3bH06ppV"
      },
      "source": [
        "dnn_model.add(keras.layers.Dense(units = 256))\n",
        "dnn_model.add(keras.layers.Dense(units = 128))\n",
        "dnn_model.add(keras.layers.Dense(units = 64))\n",
        "dnn_model.add(keras.layers.Dense(units = 1, activation = None)) "
      ],
      "execution_count": 45,
      "outputs": []
    },
    {
      "cell_type": "code",
      "metadata": {
        "id": "DXXeUiaV7P0W"
      },
      "source": [
        "combined_model = WideDeepModel(linear_model, dnn_model, activation = 'sigmoid')"
      ],
      "execution_count": 46,
      "outputs": []
    },
    {
      "cell_type": "code",
      "metadata": {
        "id": "y8weYoOx7THY"
      },
      "source": [
        "from tensorflow.keras.losses import binary_crossentropy\n",
        "from tensorflow.keras.metrics import AUC\n",
        "from tensorflow.keras.optimizers import Adam\n",
        "\n",
        "combined_model.compile(optimizer=[Adam(learning_rate=0.0001), Adam(learning_rate=0.0001)], \n",
        "                       loss= binary_crossentropy, metrics=[AUC()])"
      ],
      "execution_count": 47,
      "outputs": []
    },
    {
      "cell_type": "code",
      "metadata": {
        "id": "IZ5dMrTt8K1-"
      },
      "source": [
        "epochs = 100"
      ],
      "execution_count": 48,
      "outputs": []
    },
    {
      "cell_type": "code",
      "metadata": {
        "id": "lTdlgVyFqIhW"
      },
      "source": [
        "# linear_model = LinearModel()\n",
        "# linear_model.compile('adagrad', 'mse')\n",
        "# linear_model.fit(linear_inputs, y, epochs = epochs, batch_size=32)"
      ],
      "execution_count": 49,
      "outputs": []
    },
    {
      "cell_type": "code",
      "metadata": {
        "id": "7ysHMIC1qOXC"
      },
      "source": [
        "# dnn_model.compile('rmsprop', 'mse')\n",
        "# dnn_model.fit(dnn_inputs, y, epochs = epochs, batch_size=32)"
      ],
      "execution_count": 50,
      "outputs": []
    },
    {
      "cell_type": "code",
      "metadata": {
        "colab": {
          "base_uri": "https://localhost:8080/"
        },
        "id": "Gcznls4-6Iez",
        "outputId": "88ceeaef-20b7-4b7e-e1fd-b6f21bc80498"
      },
      "source": [
        "history = combined_model.fit([linear_inputs, dnn_inputs], y, epochs = epochs, batch_size = 4096, validation_split = 0.1)"
      ],
      "execution_count": 51,
      "outputs": [
        {
          "output_type": "stream",
          "text": [
            "Epoch 1/100\n",
            "18/18 [==============================] - 2s 51ms/step - loss: 1.4751 - auc_1: 0.5060 - val_loss: 0.8454 - val_auc_1: 0.5233\n",
            "Epoch 2/100\n",
            "18/18 [==============================] - 1s 38ms/step - loss: 0.7262 - auc_1: 0.5127 - val_loss: 0.6226 - val_auc_1: 0.5158\n",
            "Epoch 3/100\n",
            "18/18 [==============================] - 1s 37ms/step - loss: 0.5656 - auc_1: 0.5174 - val_loss: 0.5339 - val_auc_1: 0.5366\n",
            "Epoch 4/100\n",
            "18/18 [==============================] - 1s 38ms/step - loss: 0.5390 - auc_1: 0.5383 - val_loss: 0.5315 - val_auc_1: 0.5444\n",
            "Epoch 5/100\n",
            "18/18 [==============================] - 1s 37ms/step - loss: 0.5344 - auc_1: 0.5532 - val_loss: 0.5296 - val_auc_1: 0.5488\n",
            "Epoch 6/100\n",
            "18/18 [==============================] - 1s 38ms/step - loss: 0.5325 - auc_1: 0.5629 - val_loss: 0.5277 - val_auc_1: 0.5641\n",
            "Epoch 7/100\n",
            "18/18 [==============================] - 1s 39ms/step - loss: 0.5304 - auc_1: 0.5746 - val_loss: 0.5248 - val_auc_1: 0.5820\n",
            "Epoch 8/100\n",
            "18/18 [==============================] - 1s 38ms/step - loss: 0.5269 - auc_1: 0.5944 - val_loss: 0.5206 - val_auc_1: 0.5994\n",
            "Epoch 9/100\n",
            "18/18 [==============================] - 1s 39ms/step - loss: 0.5236 - auc_1: 0.6089 - val_loss: 0.5147 - val_auc_1: 0.6306\n",
            "Epoch 10/100\n",
            "18/18 [==============================] - 1s 41ms/step - loss: 0.5165 - auc_1: 0.6411 - val_loss: 0.5084 - val_auc_1: 0.6491\n",
            "Epoch 11/100\n",
            "18/18 [==============================] - 1s 38ms/step - loss: 0.5106 - auc_1: 0.6574 - val_loss: 0.5005 - val_auc_1: 0.6720\n",
            "Epoch 12/100\n",
            "18/18 [==============================] - 1s 37ms/step - loss: 0.5054 - auc_1: 0.6684 - val_loss: 0.5016 - val_auc_1: 0.6813\n",
            "Epoch 13/100\n",
            "18/18 [==============================] - 1s 35ms/step - loss: 0.5042 - auc_1: 0.6701 - val_loss: 0.4957 - val_auc_1: 0.6825\n",
            "Epoch 14/100\n",
            "18/18 [==============================] - 1s 36ms/step - loss: 0.5046 - auc_1: 0.6704 - val_loss: 0.4960 - val_auc_1: 0.6805\n",
            "Epoch 15/100\n",
            "18/18 [==============================] - 1s 37ms/step - loss: 0.5004 - auc_1: 0.6798 - val_loss: 0.4938 - val_auc_1: 0.6841\n",
            "Epoch 16/100\n",
            "18/18 [==============================] - 1s 39ms/step - loss: 0.4997 - auc_1: 0.6813 - val_loss: 0.4943 - val_auc_1: 0.6855\n",
            "Epoch 17/100\n",
            "18/18 [==============================] - 1s 39ms/step - loss: 0.5007 - auc_1: 0.6788 - val_loss: 0.4930 - val_auc_1: 0.6847\n",
            "Epoch 18/100\n",
            "18/18 [==============================] - 1s 36ms/step - loss: 0.5020 - auc_1: 0.6760 - val_loss: 0.4959 - val_auc_1: 0.6868\n",
            "Epoch 19/100\n",
            "18/18 [==============================] - 1s 37ms/step - loss: 0.5021 - auc_1: 0.6749 - val_loss: 0.4949 - val_auc_1: 0.6842\n",
            "Epoch 20/100\n",
            "18/18 [==============================] - 1s 35ms/step - loss: 0.4999 - auc_1: 0.6808 - val_loss: 0.4934 - val_auc_1: 0.6848\n",
            "Epoch 21/100\n",
            "18/18 [==============================] - 1s 34ms/step - loss: 0.4987 - auc_1: 0.6831 - val_loss: 0.4931 - val_auc_1: 0.6871\n",
            "Epoch 22/100\n",
            "18/18 [==============================] - 1s 36ms/step - loss: 0.5006 - auc_1: 0.6790 - val_loss: 0.4978 - val_auc_1: 0.6880\n",
            "Epoch 23/100\n",
            "18/18 [==============================] - 1s 35ms/step - loss: 0.5048 - auc_1: 0.6692 - val_loss: 0.4940 - val_auc_1: 0.6859\n",
            "Epoch 24/100\n",
            "18/18 [==============================] - 1s 35ms/step - loss: 0.4986 - auc_1: 0.6840 - val_loss: 0.4953 - val_auc_1: 0.6884\n",
            "Epoch 25/100\n",
            "18/18 [==============================] - 1s 36ms/step - loss: 0.4982 - auc_1: 0.6841 - val_loss: 0.4956 - val_auc_1: 0.6894\n",
            "Epoch 26/100\n",
            "18/18 [==============================] - 1s 36ms/step - loss: 0.4982 - auc_1: 0.6839 - val_loss: 0.4916 - val_auc_1: 0.6890\n",
            "Epoch 27/100\n",
            "18/18 [==============================] - 1s 35ms/step - loss: 0.4974 - auc_1: 0.6860 - val_loss: 0.5127 - val_auc_1: 0.6898\n",
            "Epoch 28/100\n",
            "18/18 [==============================] - 1s 35ms/step - loss: 0.5000 - auc_1: 0.6800 - val_loss: 0.4933 - val_auc_1: 0.6872\n",
            "Epoch 29/100\n",
            "18/18 [==============================] - 1s 34ms/step - loss: 0.4972 - auc_1: 0.6864 - val_loss: 0.5021 - val_auc_1: 0.6847\n",
            "Epoch 30/100\n",
            "18/18 [==============================] - 1s 36ms/step - loss: 0.5153 - auc_1: 0.6555 - val_loss: 0.5346 - val_auc_1: 0.6898\n",
            "Epoch 31/100\n",
            "18/18 [==============================] - 1s 36ms/step - loss: 0.5043 - auc_1: 0.6732 - val_loss: 0.4914 - val_auc_1: 0.6890\n",
            "Epoch 32/100\n",
            "18/18 [==============================] - 1s 35ms/step - loss: 0.4955 - auc_1: 0.6903 - val_loss: 0.4920 - val_auc_1: 0.6881\n",
            "Epoch 33/100\n",
            "18/18 [==============================] - 1s 35ms/step - loss: 0.4965 - auc_1: 0.6881 - val_loss: 0.4911 - val_auc_1: 0.6900\n",
            "Epoch 34/100\n",
            "18/18 [==============================] - 1s 35ms/step - loss: 0.4961 - auc_1: 0.6891 - val_loss: 0.4990 - val_auc_1: 0.6868\n",
            "Epoch 35/100\n",
            "18/18 [==============================] - 1s 35ms/step - loss: 0.5299 - auc_1: 0.6408 - val_loss: 0.5676 - val_auc_1: 0.6669\n",
            "Epoch 36/100\n",
            "18/18 [==============================] - 1s 35ms/step - loss: 0.5154 - auc_1: 0.6578 - val_loss: 0.4983 - val_auc_1: 0.6923\n",
            "Epoch 37/100\n",
            "18/18 [==============================] - 1s 35ms/step - loss: 0.4966 - auc_1: 0.6882 - val_loss: 0.4927 - val_auc_1: 0.6882\n",
            "Epoch 38/100\n",
            "18/18 [==============================] - 1s 35ms/step - loss: 0.4961 - auc_1: 0.6891 - val_loss: 0.4928 - val_auc_1: 0.6886\n",
            "Epoch 39/100\n",
            "18/18 [==============================] - 1s 35ms/step - loss: 0.5006 - auc_1: 0.6794 - val_loss: 0.5181 - val_auc_1: 0.6910\n",
            "Epoch 40/100\n",
            "18/18 [==============================] - 1s 35ms/step - loss: 0.5423 - auc_1: 0.6294 - val_loss: 0.5079 - val_auc_1: 0.6903\n",
            "Epoch 41/100\n",
            "18/18 [==============================] - 1s 35ms/step - loss: 0.5361 - auc_1: 0.6362 - val_loss: 0.5097 - val_auc_1: 0.6844\n",
            "Epoch 42/100\n",
            "18/18 [==============================] - 1s 35ms/step - loss: 0.5097 - auc_1: 0.6662 - val_loss: 0.4917 - val_auc_1: 0.6888\n",
            "Epoch 43/100\n",
            "18/18 [==============================] - 1s 36ms/step - loss: 0.4976 - auc_1: 0.6860 - val_loss: 0.4991 - val_auc_1: 0.6933\n",
            "Epoch 44/100\n",
            "18/18 [==============================] - 1s 35ms/step - loss: 0.4986 - auc_1: 0.6839 - val_loss: 0.4921 - val_auc_1: 0.6894\n",
            "Epoch 45/100\n",
            "18/18 [==============================] - 1s 35ms/step - loss: 0.4951 - auc_1: 0.6909 - val_loss: 0.4924 - val_auc_1: 0.6921\n",
            "Epoch 46/100\n",
            "18/18 [==============================] - 1s 35ms/step - loss: 0.4995 - auc_1: 0.6811 - val_loss: 0.4914 - val_auc_1: 0.6927\n",
            "Epoch 47/100\n",
            "18/18 [==============================] - 1s 35ms/step - loss: 0.4960 - auc_1: 0.6887 - val_loss: 0.4912 - val_auc_1: 0.6915\n",
            "Epoch 48/100\n",
            "18/18 [==============================] - 1s 35ms/step - loss: 0.4972 - auc_1: 0.6856 - val_loss: 0.5248 - val_auc_1: 0.6913\n",
            "Epoch 49/100\n",
            "18/18 [==============================] - 1s 35ms/step - loss: 0.5103 - auc_1: 0.6633 - val_loss: 0.5991 - val_auc_1: 0.6886\n",
            "Epoch 50/100\n",
            "18/18 [==============================] - 1s 35ms/step - loss: 0.6190 - auc_1: 0.5923 - val_loss: 0.5876 - val_auc_1: 0.6685\n",
            "Epoch 51/100\n",
            "18/18 [==============================] - 1s 34ms/step - loss: 0.5463 - auc_1: 0.6322 - val_loss: 0.5044 - val_auc_1: 0.6862\n",
            "Epoch 52/100\n",
            "18/18 [==============================] - 1s 35ms/step - loss: 0.5017 - auc_1: 0.6800 - val_loss: 0.4916 - val_auc_1: 0.6935\n",
            "Epoch 53/100\n",
            "18/18 [==============================] - 1s 35ms/step - loss: 0.4945 - auc_1: 0.6928 - val_loss: 0.4938 - val_auc_1: 0.6899\n",
            "Epoch 54/100\n",
            "18/18 [==============================] - 1s 35ms/step - loss: 0.4945 - auc_1: 0.6924 - val_loss: 0.4915 - val_auc_1: 0.6900\n",
            "Epoch 55/100\n",
            "18/18 [==============================] - 1s 35ms/step - loss: 0.5002 - auc_1: 0.6800 - val_loss: 0.4931 - val_auc_1: 0.6910\n",
            "Epoch 56/100\n",
            "18/18 [==============================] - 1s 35ms/step - loss: 0.5020 - auc_1: 0.6777 - val_loss: 0.5551 - val_auc_1: 0.6897\n",
            "Epoch 57/100\n",
            "18/18 [==============================] - 1s 35ms/step - loss: 0.5307 - auc_1: 0.6385 - val_loss: 0.4907 - val_auc_1: 0.6919\n",
            "Epoch 58/100\n",
            "18/18 [==============================] - 1s 35ms/step - loss: 0.4977 - auc_1: 0.6853 - val_loss: 0.4919 - val_auc_1: 0.6914\n",
            "Epoch 59/100\n",
            "18/18 [==============================] - 1s 35ms/step - loss: 0.5006 - auc_1: 0.6802 - val_loss: 0.4914 - val_auc_1: 0.6933\n",
            "Epoch 60/100\n",
            "18/18 [==============================] - 1s 36ms/step - loss: 0.5206 - auc_1: 0.6517 - val_loss: 0.4982 - val_auc_1: 0.6931\n",
            "Epoch 61/100\n",
            "18/18 [==============================] - 1s 35ms/step - loss: 0.5017 - auc_1: 0.6781 - val_loss: 0.5058 - val_auc_1: 0.6857\n",
            "Epoch 62/100\n",
            "18/18 [==============================] - 1s 34ms/step - loss: 0.4975 - auc_1: 0.6863 - val_loss: 0.5003 - val_auc_1: 0.6939\n",
            "Epoch 63/100\n",
            "18/18 [==============================] - 1s 35ms/step - loss: 0.4973 - auc_1: 0.6865 - val_loss: 0.4910 - val_auc_1: 0.6931\n",
            "Epoch 64/100\n",
            "18/18 [==============================] - 1s 35ms/step - loss: 0.4941 - auc_1: 0.6935 - val_loss: 0.4919 - val_auc_1: 0.6918\n",
            "Epoch 65/100\n",
            "18/18 [==============================] - 1s 35ms/step - loss: 0.4941 - auc_1: 0.6931 - val_loss: 0.4920 - val_auc_1: 0.6918\n",
            "Epoch 66/100\n",
            "18/18 [==============================] - 1s 35ms/step - loss: 0.4993 - auc_1: 0.6820 - val_loss: 0.4908 - val_auc_1: 0.6931\n",
            "Epoch 67/100\n",
            "18/18 [==============================] - 1s 38ms/step - loss: 0.4973 - auc_1: 0.6862 - val_loss: 0.5173 - val_auc_1: 0.6844\n",
            "Epoch 68/100\n",
            "18/18 [==============================] - 1s 39ms/step - loss: 0.6080 - auc_1: 0.5995 - val_loss: 0.6194 - val_auc_1: 0.6656\n",
            "Epoch 69/100\n",
            "18/18 [==============================] - 1s 38ms/step - loss: 0.5598 - auc_1: 0.6243 - val_loss: 0.4977 - val_auc_1: 0.6937\n",
            "Epoch 70/100\n",
            "18/18 [==============================] - 1s 38ms/step - loss: 0.5068 - auc_1: 0.6739 - val_loss: 0.5051 - val_auc_1: 0.6926\n",
            "Epoch 71/100\n",
            "18/18 [==============================] - 1s 39ms/step - loss: 0.5064 - auc_1: 0.6720 - val_loss: 0.5046 - val_auc_1: 0.6881\n",
            "Epoch 72/100\n",
            "18/18 [==============================] - 1s 38ms/step - loss: 0.5005 - auc_1: 0.6810 - val_loss: 0.5005 - val_auc_1: 0.6924\n",
            "Epoch 73/100\n",
            "18/18 [==============================] - 1s 37ms/step - loss: 0.4991 - auc_1: 0.6825 - val_loss: 0.4905 - val_auc_1: 0.6927\n",
            "Epoch 74/100\n",
            "18/18 [==============================] - 1s 38ms/step - loss: 0.4979 - auc_1: 0.6852 - val_loss: 0.4908 - val_auc_1: 0.6917\n",
            "Epoch 75/100\n",
            "18/18 [==============================] - 1s 40ms/step - loss: 0.4993 - auc_1: 0.6822 - val_loss: 0.4904 - val_auc_1: 0.6922\n",
            "Epoch 76/100\n",
            "18/18 [==============================] - 1s 40ms/step - loss: 0.4936 - auc_1: 0.6939 - val_loss: 0.4911 - val_auc_1: 0.6925\n",
            "Epoch 77/100\n",
            "18/18 [==============================] - 1s 37ms/step - loss: 0.5144 - auc_1: 0.6599 - val_loss: 0.5563 - val_auc_1: 0.6862\n",
            "Epoch 78/100\n",
            "18/18 [==============================] - 1s 37ms/step - loss: 0.5035 - auc_1: 0.6753 - val_loss: 0.4904 - val_auc_1: 0.6931\n",
            "Epoch 79/100\n",
            "18/18 [==============================] - 1s 40ms/step - loss: 0.4952 - auc_1: 0.6910 - val_loss: 0.5051 - val_auc_1: 0.6911\n",
            "Epoch 80/100\n",
            "18/18 [==============================] - 1s 37ms/step - loss: 0.5011 - auc_1: 0.6794 - val_loss: 0.4954 - val_auc_1: 0.6957\n",
            "Epoch 81/100\n",
            "18/18 [==============================] - 1s 39ms/step - loss: 0.5222 - auc_1: 0.6510 - val_loss: 0.5223 - val_auc_1: 0.6823\n",
            "Epoch 82/100\n",
            "18/18 [==============================] - 1s 38ms/step - loss: 0.5124 - auc_1: 0.6620 - val_loss: 0.5074 - val_auc_1: 0.6872\n",
            "Epoch 83/100\n",
            "18/18 [==============================] - 1s 41ms/step - loss: 0.5330 - auc_1: 0.6413 - val_loss: 0.4946 - val_auc_1: 0.6900\n",
            "Epoch 84/100\n",
            "18/18 [==============================] - 1s 39ms/step - loss: 0.4986 - auc_1: 0.6850 - val_loss: 0.4958 - val_auc_1: 0.6910\n",
            "Epoch 85/100\n",
            "18/18 [==============================] - 1s 37ms/step - loss: 0.5009 - auc_1: 0.6807 - val_loss: 0.5103 - val_auc_1: 0.6863\n",
            "Epoch 86/100\n",
            "18/18 [==============================] - 1s 38ms/step - loss: 0.5000 - auc_1: 0.6825 - val_loss: 0.4913 - val_auc_1: 0.6959\n",
            "Epoch 87/100\n",
            "18/18 [==============================] - 1s 39ms/step - loss: 0.4950 - auc_1: 0.6912 - val_loss: 0.4901 - val_auc_1: 0.6947\n",
            "Epoch 88/100\n",
            "18/18 [==============================] - 1s 37ms/step - loss: 0.5032 - auc_1: 0.6750 - val_loss: 0.5057 - val_auc_1: 0.6859\n",
            "Epoch 89/100\n",
            "18/18 [==============================] - 1s 38ms/step - loss: 0.5070 - auc_1: 0.6690 - val_loss: 0.4987 - val_auc_1: 0.6891\n",
            "Epoch 90/100\n",
            "18/18 [==============================] - 1s 40ms/step - loss: 0.4943 - auc_1: 0.6924 - val_loss: 0.4971 - val_auc_1: 0.6963\n",
            "Epoch 91/100\n",
            "18/18 [==============================] - 1s 39ms/step - loss: 0.4994 - auc_1: 0.6825 - val_loss: 0.5077 - val_auc_1: 0.6871\n",
            "Epoch 92/100\n",
            "18/18 [==============================] - 1s 39ms/step - loss: 0.5058 - auc_1: 0.6723 - val_loss: 0.4896 - val_auc_1: 0.6944\n",
            "Epoch 93/100\n",
            "18/18 [==============================] - 1s 39ms/step - loss: 0.4939 - auc_1: 0.6931 - val_loss: 0.4914 - val_auc_1: 0.6916\n",
            "Epoch 94/100\n",
            "18/18 [==============================] - 1s 37ms/step - loss: 0.4963 - auc_1: 0.6878 - val_loss: 0.4918 - val_auc_1: 0.6920\n",
            "Epoch 95/100\n",
            "18/18 [==============================] - 1s 37ms/step - loss: 0.4938 - auc_1: 0.6934 - val_loss: 0.5190 - val_auc_1: 0.6956\n",
            "Epoch 96/100\n",
            "18/18 [==============================] - 1s 39ms/step - loss: 0.5051 - auc_1: 0.6728 - val_loss: 0.4932 - val_auc_1: 0.6956\n",
            "Epoch 97/100\n",
            "18/18 [==============================] - 1s 41ms/step - loss: 0.4955 - auc_1: 0.6898 - val_loss: 0.5001 - val_auc_1: 0.6951\n",
            "Epoch 98/100\n",
            "18/18 [==============================] - 1s 37ms/step - loss: 0.4965 - auc_1: 0.6876 - val_loss: 0.5024 - val_auc_1: 0.6935\n",
            "Epoch 99/100\n",
            "18/18 [==============================] - 1s 39ms/step - loss: 0.5652 - auc_1: 0.6176 - val_loss: 0.5899 - val_auc_1: 0.6886\n",
            "Epoch 100/100\n",
            "18/18 [==============================] - 1s 36ms/step - loss: 0.5775 - auc_1: 0.6147 - val_loss: 0.4912 - val_auc_1: 0.6941\n"
          ],
          "name": "stdout"
        }
      ]
    },
    {
      "cell_type": "code",
      "metadata": {
        "colab": {
          "base_uri": "https://localhost:8080/"
        },
        "id": "P1JcD1JP6Lwy",
        "outputId": "c8bb6e9b-8060-4cad-cd32-7ef785ca4234"
      },
      "source": [
        "combined_model.summary()"
      ],
      "execution_count": 52,
      "outputs": [
        {
          "output_type": "stream",
          "text": [
            "Model: \"wide_deep_model_1\"\n",
            "_________________________________________________________________\n",
            "Layer (type)                 Output Shape              Param #   \n",
            "=================================================================\n",
            "linear_model_1 (LinearModel) multiple                  27        \n",
            "_________________________________________________________________\n",
            "sequential_1 (Sequential)    (None, 1)                 68897     \n",
            "=================================================================\n",
            "Total params: 68,924\n",
            "Trainable params: 68,924\n",
            "Non-trainable params: 0\n",
            "_________________________________________________________________\n"
          ],
          "name": "stdout"
        }
      ]
    },
    {
      "cell_type": "code",
      "metadata": {
        "colab": {
          "base_uri": "https://localhost:8080/"
        },
        "id": "CoQqDmRf8bEZ",
        "outputId": "94da081b-266c-4ac4-ede4-83f511a5f5a8"
      },
      "source": [
        "print('test mse: %f' % combined_model.evaluate([test_linear_inputs, test_dnn_inputs], test_y, batch_size=32)[1])"
      ],
      "execution_count": 53,
      "outputs": [
        {
          "output_type": "stream",
          "text": [
            "625/625 [==============================] - 1s 2ms/step - loss: 0.4924 - auc_1: 0.6961\n",
            "test mse: 0.696082\n"
          ],
          "name": "stdout"
        }
      ]
    },
    {
      "cell_type": "code",
      "metadata": {
        "colab": {
          "base_uri": "https://localhost:8080/",
          "height": 499
        },
        "id": "TNZdgoL6vXMD",
        "outputId": "fa67098e-a6e8-47b4-cabe-6b23e264e04a"
      },
      "source": [
        "import matplotlib.pyplot as plt\n",
        "\n",
        "acc = history.history['auc_1']\n",
        "val_acc = history.history['val_auc_1']\n",
        "\n",
        "loss = history.history['loss']\n",
        "val_loss = history.history['val_loss']\n",
        "\n",
        "epochs_range = range(epochs)\n",
        "\n",
        "plt.figure(figsize=(8, 8))\n",
        "plt.subplot(1, 2, 1)\n",
        "plt.plot(epochs_range, acc, label='Training Accuracy')\n",
        "plt.plot(epochs_range, val_acc, label='Validation Accuracy')\n",
        "plt.legend(loc='lower right')\n",
        "plt.title('Training and Validation Accuracy')\n",
        "\n",
        "plt.subplot(1, 2, 2)\n",
        "plt.plot(epochs_range, loss, label='Training Loss')\n",
        "plt.plot(epochs_range, val_loss, label='Validation Loss')\n",
        "plt.legend(loc='upper right')\n",
        "plt.title('Training and Validation Loss')\n",
        "plt.show()"
      ],
      "execution_count": 57,
      "outputs": [
        {
          "output_type": "display_data",
          "data": {
            "image/png": "[encoded data removed]",
            "text/plain": [
              "<Figure size 576x576 with 2 Axes>"
            ]
          },
          "metadata": {
            "tags": [],
            "needs_background": "light"
          }
        }
      ]
    },
    {
      "cell_type": "code",
      "metadata": {
        "id": "kqpzry8bL20L"
      },
      "source": [
        ""
      ],
      "execution_count": null,
      "outputs": []
    }
  ]
}