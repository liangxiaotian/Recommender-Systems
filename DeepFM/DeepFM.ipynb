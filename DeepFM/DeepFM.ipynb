{
  "nbformat": 4,
  "nbformat_minor": 0,
  "metadata": {
    "colab": {
      "name": "DeepFM.ipynb",
      "provenance": [],
      "collapsed_sections": []
    },
    "kernelspec": {
      "display_name": "Python 3",
      "name": "python3"
    },
    "language_info": {
      "name": "python"
    }
  },
  "cells": [
    {
      "cell_type": "code",
      "metadata": {
        "colab": {
          "base_uri": "https://localhost:8080/"
        },
        "id": "2KJxxUH67a7A",
        "outputId": "0c5d049e-a7cc-42ac-a478-93e0d91b4539"
      },
      "source": [
        "from google.colab import drive\n",
        "drive.mount('/content/drive')\n",
        "!ls"
      ],
      "execution_count": null,
      "outputs": [
        {
          "output_type": "stream",
          "text": [
            "Mounted at /content/drive\n",
            "drive  sample_data\n"
          ],
          "name": "stdout"
        }
      ]
    },
    {
      "cell_type": "code",
      "metadata": {
        "id": "-IAhwKLh6Md3"
      },
      "source": [
        "import tensorflow as tf\n",
        "from tensorflow import keras\n",
        "from tensorflow.keras import Model\n",
        "from tensorflow.keras.layers import Dense, Layer, Dropout, Embedding, Input\n",
        "from tensorflow.keras.losses import binary_crossentropy\n",
        "from tensorflow.keras.regularizers import l2\n",
        "from tensorflow.keras.optimizers import Adam\n",
        "from tensorflow.keras.metrics import AUC\n",
        "\n",
        "from sklearn.model_selection import train_test_split\n",
        "from sklearn.preprocessing import MinMaxScaler\n",
        "\n",
        "import pandas as pd\n",
        "import numpy as np"
      ],
      "execution_count": null,
      "outputs": []
    },
    {
      "cell_type": "code",
      "metadata": {
        "id": "CTHQ2Zkbtb-m"
      },
      "source": [
        "batch_size = 4096"
      ],
      "execution_count": null,
      "outputs": []
    },
    {
      "cell_type": "code",
      "metadata": {
        "id": "rna89WERguBa"
      },
      "source": [
        "def load_data(data):\n",
        "    train_data = {}\n",
        "\n",
        "    label = data.label.values\n",
        "    label = label.reshape(len(label), 1)\n",
        "    train_data['y_train'] = label\n",
        "\n",
        "    sparse_features = ['C' + str(i) for i in range(1, 27)]\n",
        "    dense_features = ['I' + str(i) for i in range(1, 14)]\n",
        "\n",
        "    scaler = MinMaxScaler()\n",
        "    data[dense_features] = pd.DataFrame(scaler.fit_transform(data[dense_features]), columns=dense_features)\n",
        "\n",
        "    co_feature = pd.DataFrame()\n",
        "    ca_feature = pd.DataFrame()\n",
        "\n",
        "    feat_dict = {}\n",
        "    cnt = 1\n",
        "    for col in data.columns:\n",
        "      if col in dense_features:\n",
        "          co_feature = pd.concat([co_feature, data[col]], axis=1)\n",
        "          feat_dict[col] = cnt\n",
        "          cnt += 1\n",
        "      elif col in sparse_features:\n",
        "          us = data[col].unique()\n",
        "          feat_dict[col] = dict(zip(us, range(cnt, len(us) + cnt)))\n",
        "          ca_feature = pd.concat([ca_feature, data[col]], axis=1)\n",
        "          cnt += len(us)\n",
        "\n",
        "    feat_dim = cnt # 特征的数量\n",
        "    feature_value = pd.concat([co_feature, ca_feature], axis=1) # 对应特征值，如果是离散特征的话，就是1，如果不是离散特征的话，就保留原来的特征值\n",
        "    feature_index = feature_value.copy()\n",
        "    for i in feature_index.columns:\n",
        "        if i in dense_features:\n",
        "            feature_index[i] = feat_dict[i]\n",
        "        else:\n",
        "            feature_index[i] = feature_index[i].map(feat_dict[i])\n",
        "            feature_value[i] = 1.\n",
        "    feature_value = feature_value.fillna(0)\n",
        "    train_data['xi'] = feature_index.values.astype('int32')\n",
        "    train_data['xv'] = feature_value.values.astype('float32')\n",
        "    train_data['feat_dim'] = feat_dim\n",
        "    return train_data"
      ],
      "execution_count": null,
      "outputs": []
    },
    {
      "cell_type": "code",
      "metadata": {
        "id": "_DIxLoNwqBEV"
      },
      "source": [
        "def read_file(file_path):\n",
        "    names = ['label', 'I1', 'I2', 'I3', 'I4', 'I5', 'I6', 'I7', 'I8', 'I9', 'I10', 'I11',\n",
        "             'I12', 'I13', 'C1', 'C2', 'C3', 'C4', 'C5', 'C6', 'C7', 'C8', 'C9', 'C10', 'C11',\n",
        "             'C12', 'C13', 'C14', 'C15', 'C16', 'C17', 'C18', 'C19', 'C20', 'C21', 'C22',\n",
        "             'C23', 'C24', 'C25', 'C26']    \n",
        "\n",
        "    data = pd.read_csv(file_path, sep='\\t', header=None, names=names)\n",
        "    # data = data.get_chunk(100000)\n",
        "    return data"
      ],
      "execution_count": null,
      "outputs": []
    },
    {
      "cell_type": "code",
      "metadata": {
        "id": "W0hycUi72mek"
      },
      "source": [
        "file_path = '/content/drive/MyDrive/ColabNotebooks/RS/wide_deep_model/data/dac_sample.txt'"
      ],
      "execution_count": null,
      "outputs": []
    },
    {
      "cell_type": "code",
      "metadata": {
        "id": "fwo_D11BiXDZ"
      },
      "source": [
        "df = read_file(file_path)\n",
        "data = load_data(df)"
      ],
      "execution_count": null,
      "outputs": []
    },
    {
      "cell_type": "code",
      "metadata": {
        "colab": {
          "base_uri": "https://localhost:8080/"
        },
        "id": "8XEAWpUcNQYA",
        "outputId": "88baef83-ed8e-4355-a616-5fe631b7a1d2"
      },
      "source": [
        "data['xi']"
      ],
      "execution_count": null,
      "outputs": [
        {
          "output_type": "execute_result",
          "data": {
            "text/plain": [
              "array([[     1,      2,      3, ..., 219439, 231774, 231825],\n",
              "       [     1,      2,      3, ..., 219440, 231774, 231826],\n",
              "       [     1,      2,      3, ..., 219441, 231775, 231827],\n",
              "       ...,\n",
              "       [     1,      2,      3, ..., 221088, 231780, 235037],\n",
              "       [     1,      2,      3, ..., 219559, 231775, 231827],\n",
              "       [     1,      2,      3, ..., 219498, 231778, 231901]], dtype=int32)"
            ]
          },
          "metadata": {
            "tags": []
          },
          "execution_count": 8
        }
      ]
    },
    {
      "cell_type": "code",
      "metadata": {
        "colab": {
          "base_uri": "https://localhost:8080/"
        },
        "id": "AceZhwaRNX8U",
        "outputId": "c52fd2ec-9084-4015-8902-9563b67883fb"
      },
      "source": [
        "data['xv']"
      ],
      "execution_count": null,
      "outputs": [
        {
          "output_type": "execute_result",
          "data": {
            "text/plain": [
              "array([[1.79856119e-03, 1.61952063e-04, 7.62951095e-05, ...,\n",
              "        1.00000000e+00, 1.00000000e+00, 1.00000000e+00],\n",
              "       [3.59712238e-03, 1.07968044e-04, 6.71396963e-04, ...,\n",
              "        1.00000000e+00, 1.00000000e+00, 1.00000000e+00],\n",
              "       [3.59712238e-03, 1.07968044e-04, 1.52590219e-05, ...,\n",
              "        1.00000000e+00, 1.00000000e+00, 1.00000000e+00],\n",
              "       ...,\n",
              "       [1.79856122e-02, 2.15936088e-04, 1.52590219e-05, ...,\n",
              "        1.00000000e+00, 1.00000000e+00, 1.00000000e+00],\n",
              "       [0.00000000e+00, 2.11617369e-02, 6.56137941e-04, ...,\n",
              "        1.00000000e+00, 1.00000000e+00, 1.00000000e+00],\n",
              "       [0.00000000e+00, 5.39840221e-05, 2.09048600e-03, ...,\n",
              "        1.00000000e+00, 1.00000000e+00, 1.00000000e+00]], dtype=float32)"
            ]
          },
          "metadata": {
            "tags": []
          },
          "execution_count": 9
        }
      ]
    },
    {
      "cell_type": "code",
      "metadata": {
        "colab": {
          "base_uri": "https://localhost:8080/"
        },
        "id": "d37j_C0MyaR7",
        "outputId": "42e74ec9-b0e1-428d-d2fa-d9dab2bfab88"
      },
      "source": [
        "data['xv'][1]"
      ],
      "execution_count": null,
      "outputs": [
        {
          "output_type": "execute_result",
          "data": {
            "text/plain": [
              "array([3.59712238e-03, 1.07968044e-04, 6.71396963e-04, 2.39808159e-03,\n",
              "       5.85827111e-05, 4.91098850e-04, 2.27092081e-04, 4.27624560e-04,\n",
              "       3.15930811e-04, 1.66666672e-01, 9.61538497e-03, 0.00000000e+00,\n",
              "       6.09942072e-04, 1.00000000e+00, 1.00000000e+00, 1.00000000e+00,\n",
              "       1.00000000e+00, 1.00000000e+00, 1.00000000e+00, 1.00000000e+00,\n",
              "       1.00000000e+00, 1.00000000e+00, 1.00000000e+00, 1.00000000e+00,\n",
              "       1.00000000e+00, 1.00000000e+00, 1.00000000e+00, 1.00000000e+00,\n",
              "       1.00000000e+00, 1.00000000e+00, 1.00000000e+00, 1.00000000e+00,\n",
              "       1.00000000e+00, 1.00000000e+00, 1.00000000e+00, 1.00000000e+00,\n",
              "       1.00000000e+00, 1.00000000e+00, 1.00000000e+00], dtype=float32)"
            ]
          },
          "metadata": {
            "tags": []
          },
          "execution_count": 10
        }
      ]
    },
    {
      "cell_type": "code",
      "metadata": {
        "id": "gr8hWKlAwt7t"
      },
      "source": [
        "dataset = tf.data.Dataset.from_tensor_slices((data['xi'], data['xv']))\n",
        "label = tf.data.Dataset.from_tensor_slices(data['y_train'].astype('int32'))\n",
        "dataset = tf.data.Dataset.zip((dataset, label))\n",
        "dataset = dataset.shuffle(20000)\n",
        "dataset = dataset.batch(batch_size)"
      ],
      "execution_count": null,
      "outputs": []
    },
    {
      "cell_type": "code",
      "metadata": {
        "id": "pO7R4czjvQiW"
      },
      "source": [
        "train_size = int(0.8 * len(df)/batch_size)\n",
        "val_size = int(0.2 * len(df)/batch_size)"
      ],
      "execution_count": null,
      "outputs": []
    },
    {
      "cell_type": "code",
      "metadata": {
        "id": "qHjf85j79xrh"
      },
      "source": [
        "train_dataset = dataset.take(train_size)\n",
        "val_dataset = dataset.skip(train_size).take(val_size)"
      ],
      "execution_count": null,
      "outputs": []
    },
    {
      "cell_type": "code",
      "metadata": {
        "colab": {
          "base_uri": "https://localhost:8080/"
        },
        "id": "EXUUq2hoyC32",
        "outputId": "ecf689c5-0233-47cd-c133-61cb92ffb4e0"
      },
      "source": [
        "val_dataset.take(1)"
      ],
      "execution_count": null,
      "outputs": [
        {
          "output_type": "execute_result",
          "data": {
            "text/plain": [
              "<TakeDataset shapes: (((None, 39), (None, 39)), (None, 1)), types: ((tf.int32, tf.float32), tf.int32)>"
            ]
          },
          "metadata": {
            "tags": []
          },
          "execution_count": 14
        }
      ]
    },
    {
      "cell_type": "code",
      "metadata": {
        "id": "SGVROSx-QyfY"
      },
      "source": [
        "class FM(Layer):\n",
        "    \"\"\"\n",
        "    Wide part\n",
        "    \"\"\"\n",
        "\n",
        "    def __init__(self, feature_length, w_reg=1e-6):\n",
        "        \"\"\"\n",
        "        Factorization Machine\n",
        "        In DeepFM, only the first order feature and second order feature intersect are included.\n",
        "        :param feature_length: A scalar. The length of features.\n",
        "        :param w_reg: A scalar. The regularization coefficient of parameter w.\n",
        "        \"\"\"\n",
        "        super(FM, self).__init__()\n",
        "        self.feature_length = feature_length\n",
        "        self.field_size = 39\n",
        "        self.w_reg = w_reg\n",
        "\n",
        "    def build(self, input_shape):\n",
        "        self.w = self.add_weight(name='w', shape=(self.feature_length, 1),\n",
        "                                 initializer='random_normal',\n",
        "                                 regularizer=l2(self.w_reg),\n",
        "                                 trainable=True)\n",
        "\n",
        "    def call(self, inputs, **kwargs):\n",
        "        \"\"\"\n",
        "        :param inputs: A dict with shape `(batch_size, {'sparse_inputs', 'embed_inputs'})`:\n",
        "          fea_index is 2D tensor with shape `(batch_size, sum(field_num))` # \n",
        "          fea_embed is 3D tensor with shape `(batch_size, fields, embed_dim)` # \n",
        "        \"\"\"\n",
        "        fea_index, fea_value, fea_embed = inputs['fea_index'], inputs['fea_value'], inputs['fea_embed']\n",
        "        # first order 一次项，线性模型\n",
        "        self.embedding_first = tf.nn.embedding_lookup(self.w, fea_index)\n",
        "        self.embedding_first = tf.multiply(self.embedding_first, tf.reshape(fea_value, [-1, self.field_size, 1]))\n",
        "        first_order = tf.reduce_sum(self.embedding_first, 1)\n",
        "        # first_order = tf.reduce_sum(tf.nn.embedding_lookup(self.w, fea_index), axis=1)  # (batch_size, 1)\n",
        "\n",
        "        # second order 二次项，二阶交叉项\n",
        "        square_sum = tf.square(tf.reduce_sum(fea_embed, axis=1, keepdims=True))  # (batch_size, 1, embed_dim)\n",
        "        sum_square = tf.reduce_sum(tf.square(fea_embed), axis=1, keepdims=True)  # (batch_size, 1, embed_dim)\n",
        "        second_order = 0.5 * tf.reduce_sum(square_sum - sum_square, axis=2)  # (batch_size, 1)\n",
        "        return first_order + second_order\n",
        "\n",
        "\n",
        "class DNN(Layer):\n",
        "    \"\"\"\n",
        "    Deep part\n",
        "    \"\"\"\n",
        "\n",
        "    def __init__(self, hidden_units, activation='relu', dnn_dropout=0.2):\n",
        "        \"\"\"\n",
        "        DNN part\n",
        "        :param hidden_units: A list like `[unit1, unit2,...,]`. List of hidden layer units's numbers\n",
        "        :param activation: A string. Activation function.\n",
        "        :param dnn_dropout: A scalar. dropout number.\n",
        "        \"\"\"\n",
        "        super(DNN, self).__init__()\n",
        "        self.dnn_network = [Dense(units=unit, activation=activation) for unit in hidden_units]\n",
        "        self.dropout = Dropout(dnn_dropout)\n",
        "\n",
        "    def call(self, inputs, **kwargs):\n",
        "        x = inputs\n",
        "        for dnn in self.dnn_network:\n",
        "            x = dnn(x)\n",
        "        x = self.dropout(x)\n",
        "        return x"
      ],
      "execution_count": null,
      "outputs": []
    },
    {
      "cell_type": "code",
      "metadata": {
        "id": "np3ucr3DRNV1"
      },
      "source": [
        "class DeepFM(Model):\n",
        "    def __init__(self, train_data, hidden_units=(128, 64), dnn_dropout=0.3,\n",
        "                 activation='relu', fm_w_reg=1e-6, embed_reg=1e-6):\n",
        "        \"\"\"\n",
        "        DeepFM\n",
        "        :param feature_columns: A list. sparse column feature information.\n",
        "        :param hidden_units: A list. A list of dnn hidden units.\n",
        "        :param dnn_dropout: A scalar. Dropout of dnn.\n",
        "        :param activation: A string. Activation function of dnn.\n",
        "        :param fm_w_reg: A scalar. The regularizer of w in fm.\n",
        "        :param embed_reg: A scalar. The regularizer of embedding.\n",
        "        \"\"\"\n",
        "        super(DeepFM, self).__init__()\n",
        "        self.train_data = train_data\n",
        "        # 二阶（FM）与高阶（DNN）的特征交互，共享embedding矩阵\n",
        "        self.embed_layers = tf.keras.layersEmbedding(input_dim=self.train_data['feat_dim'],\n",
        "                                      input_length=1,\n",
        "                                      output_dim=4,\n",
        "                                      embeddings_initializer='random_normal',\n",
        "                                      embeddings_regularizer=l2(embed_reg))\n",
        "\n",
        "        self.fm = FM(self.train_data['feat_dim'], fm_w_reg)\n",
        "        self.dnn = DNN(hidden_units, activation, dnn_dropout)\n",
        "        self.dense = Dense(1, activation=None)\n",
        "\n",
        "    def call(self, inputs, **kwargs):\n",
        "        fea_index, fea_value = inputs\n",
        "        # embedding\n",
        "        fea_embed = self.embed_layers(fea_index)  # (batch_size, embed_dim * fields) FM和DNN共享的特征embedding\n",
        "        # wide\n",
        "        wide_inputs = {'fea_index': fea_index,\n",
        "                 'fea_value': fea_value,\n",
        "                 'fea_embed': fea_embed}\n",
        "        wide_outputs = self.fm(wide_inputs)  # (batch_size, 1)\n",
        "\n",
        "        fea_embed = tf.reshape(fea_embed, shape=(-1, fea_embed.shape[1] * fea_embed.shape[2])) # concat feature embedding\n",
        "        \n",
        "        # deep\n",
        "        deep_outputs = self.dnn(fea_embed)\n",
        "        deep_outputs = self.dense(deep_outputs)  # (batch_size, 1)\n",
        "        # outputs\n",
        "        outputs = tf.nn.sigmoid(tf.add(wide_outputs, deep_outputs))\n",
        "        return outputs"
      ],
      "execution_count": null,
      "outputs": []
    },
    {
      "cell_type": "code",
      "metadata": {
        "id": "zcsYaYCU0wjV"
      },
      "source": [
        "model = DeepFM(data, dnn_dropout=0.5)"
      ],
      "execution_count": null,
      "outputs": []
    },
    {
      "cell_type": "code",
      "metadata": {
        "id": "u9Gn7_bV73vK"
      },
      "source": [
        "model.compile(loss=binary_crossentropy, optimizer=Adam(0.0001), metrics=[AUC()])"
      ],
      "execution_count": null,
      "outputs": []
    },
    {
      "cell_type": "code",
      "metadata": {
        "id": "3t-hX3WFj-Vg"
      },
      "source": [
        "epochs = 160"
      ],
      "execution_count": null,
      "outputs": []
    },
    {
      "cell_type": "code",
      "metadata": {
        "colab": {
          "base_uri": "https://localhost:8080/"
        },
        "id": "3k2fSMK47dRV",
        "outputId": "a33ff853-7f86-4da3-acbb-1b2845f8787b"
      },
      "source": [
        "history = model.fit(train_dataset, batch_size=batch_size, epochs=epochs, validation_data = val_dataset)"
      ],
      "execution_count": null,
      "outputs": [
        {
          "output_type": "stream",
          "text": [
            "Epoch 1/160\n",
            "19/19 [==============================] - 2s 67ms/step - loss: 0.6649 - auc_2: 0.4973 - val_loss: 0.6511 - val_auc_2: 0.4954\n",
            "Epoch 2/160\n",
            "19/19 [==============================] - 1s 48ms/step - loss: 0.6327 - auc_2: 0.5111 - val_loss: 0.6217 - val_auc_2: 0.5012\n",
            "Epoch 3/160\n",
            "19/19 [==============================] - 1s 48ms/step - loss: 0.6051 - auc_2: 0.5222 - val_loss: 0.5942 - val_auc_2: 0.5204\n",
            "Epoch 4/160\n",
            "19/19 [==============================] - 1s 48ms/step - loss: 0.5796 - auc_2: 0.5339 - val_loss: 0.5742 - val_auc_2: 0.5333\n",
            "Epoch 5/160\n",
            "19/19 [==============================] - 1s 48ms/step - loss: 0.5590 - auc_2: 0.5446 - val_loss: 0.5567 - val_auc_2: 0.5417\n",
            "Epoch 6/160\n",
            "19/19 [==============================] - 1s 49ms/step - loss: 0.5431 - auc_2: 0.5595 - val_loss: 0.5433 - val_auc_2: 0.5515\n",
            "Epoch 7/160\n",
            "19/19 [==============================] - 1s 50ms/step - loss: 0.5340 - auc_2: 0.5702 - val_loss: 0.5404 - val_auc_2: 0.5716\n",
            "Epoch 8/160\n",
            "19/19 [==============================] - 1s 49ms/step - loss: 0.5288 - auc_2: 0.5789 - val_loss: 0.5342 - val_auc_2: 0.5849\n",
            "Epoch 9/160\n",
            "19/19 [==============================] - 1s 48ms/step - loss: 0.5248 - auc_2: 0.6010 - val_loss: 0.5319 - val_auc_2: 0.6004\n",
            "Epoch 10/160\n",
            "19/19 [==============================] - 1s 48ms/step - loss: 0.5225 - auc_2: 0.6130 - val_loss: 0.5281 - val_auc_2: 0.6153\n",
            "Epoch 11/160\n",
            "19/19 [==============================] - 1s 49ms/step - loss: 0.5187 - auc_2: 0.6281 - val_loss: 0.5273 - val_auc_2: 0.6304\n",
            "Epoch 12/160\n",
            "19/19 [==============================] - 1s 49ms/step - loss: 0.5155 - auc_2: 0.6417 - val_loss: 0.5238 - val_auc_2: 0.6438\n",
            "Epoch 13/160\n",
            "19/19 [==============================] - 1s 49ms/step - loss: 0.5091 - auc_2: 0.6590 - val_loss: 0.5225 - val_auc_2: 0.6564\n",
            "Epoch 14/160\n",
            "19/19 [==============================] - 1s 49ms/step - loss: 0.5053 - auc_2: 0.6731 - val_loss: 0.5176 - val_auc_2: 0.6741\n",
            "Epoch 15/160\n",
            "19/19 [==============================] - 1s 48ms/step - loss: 0.5020 - auc_2: 0.6856 - val_loss: 0.5126 - val_auc_2: 0.6845\n",
            "Epoch 16/160\n",
            "19/19 [==============================] - 1s 49ms/step - loss: 0.4973 - auc_2: 0.7009 - val_loss: 0.5096 - val_auc_2: 0.6926\n",
            "Epoch 17/160\n",
            "19/19 [==============================] - 1s 49ms/step - loss: 0.4933 - auc_2: 0.7124 - val_loss: 0.5122 - val_auc_2: 0.6962\n",
            "Epoch 18/160\n",
            "19/19 [==============================] - 1s 47ms/step - loss: 0.4874 - auc_2: 0.7258 - val_loss: 0.4997 - val_auc_2: 0.7121\n",
            "Epoch 19/160\n",
            "19/19 [==============================] - 1s 48ms/step - loss: 0.4817 - auc_2: 0.7367 - val_loss: 0.4957 - val_auc_2: 0.7207\n",
            "Epoch 20/160\n",
            "19/19 [==============================] - 1s 47ms/step - loss: 0.4748 - auc_2: 0.7497 - val_loss: 0.4906 - val_auc_2: 0.7320\n",
            "Epoch 21/160\n",
            "19/19 [==============================] - 1s 47ms/step - loss: 0.4698 - auc_2: 0.7578 - val_loss: 0.4849 - val_auc_2: 0.7418\n",
            "Epoch 22/160\n",
            "19/19 [==============================] - 1s 48ms/step - loss: 0.4628 - auc_2: 0.7678 - val_loss: 0.4826 - val_auc_2: 0.7444\n",
            "Epoch 23/160\n",
            "19/19 [==============================] - 1s 50ms/step - loss: 0.4562 - auc_2: 0.7777 - val_loss: 0.4722 - val_auc_2: 0.7579\n",
            "Epoch 24/160\n",
            "19/19 [==============================] - 1s 48ms/step - loss: 0.4485 - auc_2: 0.7878 - val_loss: 0.4644 - val_auc_2: 0.7615\n",
            "Epoch 25/160\n",
            "19/19 [==============================] - 1s 49ms/step - loss: 0.4399 - auc_2: 0.7971 - val_loss: 0.4623 - val_auc_2: 0.7723\n",
            "Epoch 26/160\n",
            "19/19 [==============================] - 1s 48ms/step - loss: 0.4320 - auc_2: 0.8063 - val_loss: 0.4606 - val_auc_2: 0.7703\n",
            "Epoch 27/160\n",
            "19/19 [==============================] - 1s 49ms/step - loss: 0.4250 - auc_2: 0.8166 - val_loss: 0.4507 - val_auc_2: 0.7831\n",
            "Epoch 28/160\n",
            "19/19 [==============================] - 1s 49ms/step - loss: 0.4156 - auc_2: 0.8245 - val_loss: 0.4445 - val_auc_2: 0.7891\n",
            "Epoch 29/160\n",
            "19/19 [==============================] - 1s 49ms/step - loss: 0.4068 - auc_2: 0.8351 - val_loss: 0.4351 - val_auc_2: 0.8002\n",
            "Epoch 30/160\n",
            "19/19 [==============================] - 1s 50ms/step - loss: 0.3969 - auc_2: 0.8434 - val_loss: 0.4338 - val_auc_2: 0.8003\n",
            "Epoch 31/160\n",
            "19/19 [==============================] - 1s 49ms/step - loss: 0.3873 - auc_2: 0.8531 - val_loss: 0.4319 - val_auc_2: 0.8077\n",
            "Epoch 32/160\n",
            "19/19 [==============================] - 1s 49ms/step - loss: 0.3790 - auc_2: 0.8592 - val_loss: 0.4202 - val_auc_2: 0.8152\n",
            "Epoch 33/160\n",
            "19/19 [==============================] - 1s 48ms/step - loss: 0.3679 - auc_2: 0.8691 - val_loss: 0.4204 - val_auc_2: 0.8185\n",
            "Epoch 34/160\n",
            "19/19 [==============================] - 1s 47ms/step - loss: 0.3575 - auc_2: 0.8784 - val_loss: 0.4125 - val_auc_2: 0.8234\n",
            "Epoch 35/160\n",
            "19/19 [==============================] - 1s 50ms/step - loss: 0.3476 - auc_2: 0.8857 - val_loss: 0.4087 - val_auc_2: 0.8301\n",
            "Epoch 36/160\n",
            "19/19 [==============================] - 1s 48ms/step - loss: 0.3377 - auc_2: 0.8923 - val_loss: 0.4006 - val_auc_2: 0.8343\n",
            "Epoch 37/160\n",
            "19/19 [==============================] - 1s 49ms/step - loss: 0.3282 - auc_2: 0.8984 - val_loss: 0.3943 - val_auc_2: 0.8430\n",
            "Epoch 38/160\n",
            "19/19 [==============================] - 1s 49ms/step - loss: 0.3188 - auc_2: 0.9049 - val_loss: 0.3850 - val_auc_2: 0.8494\n",
            "Epoch 39/160\n",
            "19/19 [==============================] - 1s 49ms/step - loss: 0.3090 - auc_2: 0.9101 - val_loss: 0.3799 - val_auc_2: 0.8539\n",
            "Epoch 40/160\n",
            "19/19 [==============================] - 1s 48ms/step - loss: 0.3035 - auc_2: 0.9134 - val_loss: 0.3746 - val_auc_2: 0.8599\n",
            "Epoch 41/160\n",
            "19/19 [==============================] - 1s 50ms/step - loss: 0.2949 - auc_2: 0.9187 - val_loss: 0.3774 - val_auc_2: 0.8550\n",
            "Epoch 42/160\n",
            "19/19 [==============================] - 1s 49ms/step - loss: 0.2891 - auc_2: 0.9222 - val_loss: 0.3739 - val_auc_2: 0.8631\n",
            "Epoch 43/160\n",
            "19/19 [==============================] - 1s 49ms/step - loss: 0.2802 - auc_2: 0.9268 - val_loss: 0.3698 - val_auc_2: 0.8648\n",
            "Epoch 44/160\n",
            "19/19 [==============================] - 1s 48ms/step - loss: 0.2739 - auc_2: 0.9304 - val_loss: 0.3660 - val_auc_2: 0.8690\n",
            "Epoch 45/160\n",
            "19/19 [==============================] - 1s 48ms/step - loss: 0.2670 - auc_2: 0.9336 - val_loss: 0.3639 - val_auc_2: 0.8691\n",
            "Epoch 46/160\n",
            "19/19 [==============================] - 1s 47ms/step - loss: 0.2642 - auc_2: 0.9344 - val_loss: 0.3593 - val_auc_2: 0.8760\n",
            "Epoch 47/160\n",
            "19/19 [==============================] - 1s 47ms/step - loss: 0.2568 - auc_2: 0.9384 - val_loss: 0.3593 - val_auc_2: 0.8764\n",
            "Epoch 48/160\n",
            "19/19 [==============================] - 1s 48ms/step - loss: 0.2537 - auc_2: 0.9405 - val_loss: 0.3570 - val_auc_2: 0.8777\n",
            "Epoch 49/160\n",
            "19/19 [==============================] - 1s 48ms/step - loss: 0.2471 - auc_2: 0.9432 - val_loss: 0.3500 - val_auc_2: 0.8809\n",
            "Epoch 50/160\n",
            "19/19 [==============================] - 1s 46ms/step - loss: 0.2449 - auc_2: 0.9438 - val_loss: 0.3476 - val_auc_2: 0.8836\n",
            "Epoch 51/160\n",
            "19/19 [==============================] - 1s 48ms/step - loss: 0.2394 - auc_2: 0.9467 - val_loss: 0.3431 - val_auc_2: 0.8878\n",
            "Epoch 52/160\n",
            "19/19 [==============================] - 1s 47ms/step - loss: 0.2362 - auc_2: 0.9481 - val_loss: 0.3431 - val_auc_2: 0.8869\n",
            "Epoch 53/160\n",
            "19/19 [==============================] - 1s 48ms/step - loss: 0.2332 - auc_2: 0.9494 - val_loss: 0.3397 - val_auc_2: 0.8878\n",
            "Epoch 54/160\n",
            "19/19 [==============================] - 1s 48ms/step - loss: 0.2287 - auc_2: 0.9517 - val_loss: 0.3416 - val_auc_2: 0.8892\n",
            "Epoch 55/160\n",
            "19/19 [==============================] - 1s 47ms/step - loss: 0.2260 - auc_2: 0.9525 - val_loss: 0.3360 - val_auc_2: 0.8921\n",
            "Epoch 56/160\n",
            "19/19 [==============================] - 1s 50ms/step - loss: 0.2222 - auc_2: 0.9542 - val_loss: 0.3375 - val_auc_2: 0.8925\n",
            "Epoch 57/160\n",
            "19/19 [==============================] - 1s 48ms/step - loss: 0.2197 - auc_2: 0.9552 - val_loss: 0.3333 - val_auc_2: 0.8942\n",
            "Epoch 58/160\n",
            "19/19 [==============================] - 1s 49ms/step - loss: 0.2170 - auc_2: 0.9563 - val_loss: 0.3337 - val_auc_2: 0.8939\n",
            "Epoch 59/160\n",
            "19/19 [==============================] - 1s 48ms/step - loss: 0.2148 - auc_2: 0.9573 - val_loss: 0.3312 - val_auc_2: 0.8976\n",
            "Epoch 60/160\n",
            "19/19 [==============================] - 1s 48ms/step - loss: 0.2117 - auc_2: 0.9586 - val_loss: 0.3284 - val_auc_2: 0.8987\n",
            "Epoch 61/160\n",
            "19/19 [==============================] - 1s 48ms/step - loss: 0.2099 - auc_2: 0.9592 - val_loss: 0.3262 - val_auc_2: 0.9004\n",
            "Epoch 62/160\n",
            "19/19 [==============================] - 1s 48ms/step - loss: 0.2084 - auc_2: 0.9599 - val_loss: 0.3339 - val_auc_2: 0.8982\n",
            "Epoch 63/160\n",
            "19/19 [==============================] - 1s 48ms/step - loss: 0.2026 - auc_2: 0.9622 - val_loss: 0.3330 - val_auc_2: 0.8980\n",
            "Epoch 64/160\n",
            "19/19 [==============================] - 1s 47ms/step - loss: 0.2026 - auc_2: 0.9620 - val_loss: 0.3220 - val_auc_2: 0.9030\n",
            "Epoch 65/160\n",
            "19/19 [==============================] - 1s 48ms/step - loss: 0.2010 - auc_2: 0.9626 - val_loss: 0.3304 - val_auc_2: 0.9002\n",
            "Epoch 66/160\n",
            "19/19 [==============================] - 1s 48ms/step - loss: 0.1986 - auc_2: 0.9634 - val_loss: 0.3246 - val_auc_2: 0.9033\n",
            "Epoch 67/160\n",
            "19/19 [==============================] - 1s 48ms/step - loss: 0.1963 - auc_2: 0.9643 - val_loss: 0.3201 - val_auc_2: 0.9055\n",
            "Epoch 68/160\n",
            "19/19 [==============================] - 1s 49ms/step - loss: 0.1953 - auc_2: 0.9646 - val_loss: 0.3218 - val_auc_2: 0.9055\n",
            "Epoch 69/160\n",
            "19/19 [==============================] - 1s 47ms/step - loss: 0.1933 - auc_2: 0.9653 - val_loss: 0.3256 - val_auc_2: 0.9038\n",
            "Epoch 70/160\n",
            "19/19 [==============================] - 1s 48ms/step - loss: 0.1915 - auc_2: 0.9661 - val_loss: 0.3155 - val_auc_2: 0.9098\n",
            "Epoch 71/160\n",
            "19/19 [==============================] - 1s 48ms/step - loss: 0.1894 - auc_2: 0.9668 - val_loss: 0.3159 - val_auc_2: 0.9092\n",
            "Epoch 72/160\n",
            "19/19 [==============================] - 1s 49ms/step - loss: 0.1870 - auc_2: 0.9674 - val_loss: 0.3287 - val_auc_2: 0.9036\n",
            "Epoch 73/160\n",
            "19/19 [==============================] - 1s 47ms/step - loss: 0.1879 - auc_2: 0.9671 - val_loss: 0.3204 - val_auc_2: 0.9080\n",
            "Epoch 74/160\n",
            "19/19 [==============================] - 1s 48ms/step - loss: 0.1858 - auc_2: 0.9680 - val_loss: 0.3235 - val_auc_2: 0.9063\n",
            "Epoch 75/160\n",
            "19/19 [==============================] - 1s 48ms/step - loss: 0.1834 - auc_2: 0.9689 - val_loss: 0.3180 - val_auc_2: 0.9101\n",
            "Epoch 76/160\n",
            "19/19 [==============================] - 1s 50ms/step - loss: 0.1819 - auc_2: 0.9694 - val_loss: 0.3142 - val_auc_2: 0.9125\n",
            "Epoch 77/160\n",
            "19/19 [==============================] - 1s 48ms/step - loss: 0.1813 - auc_2: 0.9695 - val_loss: 0.3151 - val_auc_2: 0.9120\n",
            "Epoch 78/160\n",
            "19/19 [==============================] - 1s 49ms/step - loss: 0.1804 - auc_2: 0.9699 - val_loss: 0.3149 - val_auc_2: 0.9133\n",
            "Epoch 79/160\n",
            "19/19 [==============================] - 1s 48ms/step - loss: 0.1779 - auc_2: 0.9706 - val_loss: 0.3144 - val_auc_2: 0.9147\n",
            "Epoch 80/160\n",
            "19/19 [==============================] - 1s 48ms/step - loss: 0.1770 - auc_2: 0.9713 - val_loss: 0.3100 - val_auc_2: 0.9156\n",
            "Epoch 81/160\n",
            "19/19 [==============================] - 1s 49ms/step - loss: 0.1751 - auc_2: 0.9716 - val_loss: 0.3086 - val_auc_2: 0.9165\n",
            "Epoch 82/160\n",
            "19/19 [==============================] - 1s 48ms/step - loss: 0.1760 - auc_2: 0.9712 - val_loss: 0.3085 - val_auc_2: 0.9159\n",
            "Epoch 83/160\n",
            "19/19 [==============================] - 1s 48ms/step - loss: 0.1753 - auc_2: 0.9715 - val_loss: 0.3112 - val_auc_2: 0.9149\n",
            "Epoch 84/160\n",
            "19/19 [==============================] - 1s 49ms/step - loss: 0.1728 - auc_2: 0.9727 - val_loss: 0.3160 - val_auc_2: 0.9134\n",
            "Epoch 85/160\n",
            "19/19 [==============================] - 1s 49ms/step - loss: 0.1719 - auc_2: 0.9728 - val_loss: 0.3093 - val_auc_2: 0.9157\n",
            "Epoch 86/160\n",
            "19/19 [==============================] - 1s 48ms/step - loss: 0.1700 - auc_2: 0.9732 - val_loss: 0.3148 - val_auc_2: 0.9139\n",
            "Epoch 87/160\n",
            "19/19 [==============================] - 1s 48ms/step - loss: 0.1690 - auc_2: 0.9739 - val_loss: 0.3100 - val_auc_2: 0.9151\n",
            "Epoch 88/160\n",
            "19/19 [==============================] - 1s 49ms/step - loss: 0.1693 - auc_2: 0.9735 - val_loss: 0.3100 - val_auc_2: 0.9167\n",
            "Epoch 89/160\n",
            "19/19 [==============================] - 1s 50ms/step - loss: 0.1687 - auc_2: 0.9737 - val_loss: 0.3097 - val_auc_2: 0.9175\n",
            "Epoch 90/160\n",
            "19/19 [==============================] - 1s 49ms/step - loss: 0.1674 - auc_2: 0.9742 - val_loss: 0.3151 - val_auc_2: 0.9146\n",
            "Epoch 91/160\n",
            "19/19 [==============================] - 1s 49ms/step - loss: 0.1664 - auc_2: 0.9744 - val_loss: 0.3081 - val_auc_2: 0.9196\n",
            "Epoch 92/160\n",
            "19/19 [==============================] - 1s 49ms/step - loss: 0.1636 - auc_2: 0.9753 - val_loss: 0.3076 - val_auc_2: 0.9189\n",
            "Epoch 93/160\n",
            "19/19 [==============================] - 1s 49ms/step - loss: 0.1646 - auc_2: 0.9750 - val_loss: 0.3059 - val_auc_2: 0.9189\n",
            "Epoch 94/160\n",
            "19/19 [==============================] - 1s 50ms/step - loss: 0.1623 - auc_2: 0.9758 - val_loss: 0.3160 - val_auc_2: 0.9165\n",
            "Epoch 95/160\n",
            "19/19 [==============================] - 1s 50ms/step - loss: 0.1626 - auc_2: 0.9756 - val_loss: 0.3039 - val_auc_2: 0.9216\n",
            "Epoch 96/160\n",
            "19/19 [==============================] - 1s 49ms/step - loss: 0.1626 - auc_2: 0.9755 - val_loss: 0.3103 - val_auc_2: 0.9182\n",
            "Epoch 97/160\n",
            "19/19 [==============================] - 1s 51ms/step - loss: 0.1612 - auc_2: 0.9759 - val_loss: 0.3026 - val_auc_2: 0.9223\n",
            "Epoch 98/160\n",
            "19/19 [==============================] - 1s 50ms/step - loss: 0.1593 - auc_2: 0.9766 - val_loss: 0.3071 - val_auc_2: 0.9212\n",
            "Epoch 99/160\n",
            "19/19 [==============================] - 1s 50ms/step - loss: 0.1603 - auc_2: 0.9764 - val_loss: 0.3088 - val_auc_2: 0.9209\n",
            "Epoch 100/160\n",
            "19/19 [==============================] - 1s 52ms/step - loss: 0.1602 - auc_2: 0.9762 - val_loss: 0.3054 - val_auc_2: 0.9236\n",
            "Epoch 101/160\n",
            "19/19 [==============================] - 1s 49ms/step - loss: 0.1592 - auc_2: 0.9765 - val_loss: 0.3040 - val_auc_2: 0.9222\n",
            "Epoch 102/160\n",
            "19/19 [==============================] - 1s 48ms/step - loss: 0.1585 - auc_2: 0.9768 - val_loss: 0.3062 - val_auc_2: 0.9223\n",
            "Epoch 103/160\n",
            "19/19 [==============================] - 1s 48ms/step - loss: 0.1575 - auc_2: 0.9769 - val_loss: 0.3116 - val_auc_2: 0.9211\n",
            "Epoch 104/160\n",
            "19/19 [==============================] - 1s 47ms/step - loss: 0.1564 - auc_2: 0.9774 - val_loss: 0.3000 - val_auc_2: 0.9243\n",
            "Epoch 105/160\n",
            "19/19 [==============================] - 1s 48ms/step - loss: 0.1564 - auc_2: 0.9772 - val_loss: 0.3103 - val_auc_2: 0.9207\n",
            "Epoch 106/160\n",
            "19/19 [==============================] - 1s 49ms/step - loss: 0.1556 - auc_2: 0.9776 - val_loss: 0.3084 - val_auc_2: 0.9234\n",
            "Epoch 107/160\n",
            "19/19 [==============================] - 1s 47ms/step - loss: 0.1534 - auc_2: 0.9782 - val_loss: 0.3033 - val_auc_2: 0.9241\n",
            "Epoch 108/160\n",
            "19/19 [==============================] - 1s 47ms/step - loss: 0.1548 - auc_2: 0.9778 - val_loss: 0.3095 - val_auc_2: 0.9235\n",
            "Epoch 109/160\n",
            "19/19 [==============================] - 1s 50ms/step - loss: 0.1536 - auc_2: 0.9782 - val_loss: 0.3108 - val_auc_2: 0.9226\n",
            "Epoch 110/160\n",
            "19/19 [==============================] - 1s 48ms/step - loss: 0.1548 - auc_2: 0.9779 - val_loss: 0.2932 - val_auc_2: 0.9287\n",
            "Epoch 111/160\n",
            "19/19 [==============================] - 1s 49ms/step - loss: 0.1517 - auc_2: 0.9788 - val_loss: 0.3056 - val_auc_2: 0.9248\n",
            "Epoch 112/160\n",
            "19/19 [==============================] - 1s 51ms/step - loss: 0.1521 - auc_2: 0.9786 - val_loss: 0.2990 - val_auc_2: 0.9253\n",
            "Epoch 113/160\n",
            "19/19 [==============================] - 1s 49ms/step - loss: 0.1516 - auc_2: 0.9789 - val_loss: 0.3053 - val_auc_2: 0.9248\n",
            "Epoch 114/160\n",
            "19/19 [==============================] - 1s 49ms/step - loss: 0.1504 - auc_2: 0.9790 - val_loss: 0.3023 - val_auc_2: 0.9253\n",
            "Epoch 115/160\n",
            "19/19 [==============================] - 1s 49ms/step - loss: 0.1491 - auc_2: 0.9796 - val_loss: 0.3080 - val_auc_2: 0.9237\n",
            "Epoch 116/160\n",
            "19/19 [==============================] - 1s 49ms/step - loss: 0.1509 - auc_2: 0.9788 - val_loss: 0.3046 - val_auc_2: 0.9248\n",
            "Epoch 117/160\n",
            "19/19 [==============================] - 1s 48ms/step - loss: 0.1495 - auc_2: 0.9794 - val_loss: 0.3139 - val_auc_2: 0.9240\n",
            "Epoch 118/160\n",
            "19/19 [==============================] - 1s 48ms/step - loss: 0.1488 - auc_2: 0.9797 - val_loss: 0.3038 - val_auc_2: 0.9269\n",
            "Epoch 119/160\n",
            "19/19 [==============================] - 1s 50ms/step - loss: 0.1465 - auc_2: 0.9804 - val_loss: 0.3010 - val_auc_2: 0.9280\n",
            "Epoch 120/160\n",
            "19/19 [==============================] - 1s 49ms/step - loss: 0.1477 - auc_2: 0.9797 - val_loss: 0.2960 - val_auc_2: 0.9288\n",
            "Epoch 121/160\n",
            "19/19 [==============================] - 1s 49ms/step - loss: 0.1476 - auc_2: 0.9798 - val_loss: 0.3081 - val_auc_2: 0.9259\n",
            "Epoch 122/160\n",
            "19/19 [==============================] - 1s 47ms/step - loss: 0.1467 - auc_2: 0.9801 - val_loss: 0.3027 - val_auc_2: 0.9262\n",
            "Epoch 123/160\n",
            "19/19 [==============================] - 1s 49ms/step - loss: 0.1456 - auc_2: 0.9804 - val_loss: 0.3057 - val_auc_2: 0.9264\n",
            "Epoch 124/160\n",
            "19/19 [==============================] - 1s 49ms/step - loss: 0.1464 - auc_2: 0.9801 - val_loss: 0.3093 - val_auc_2: 0.9259\n",
            "Epoch 125/160\n",
            "19/19 [==============================] - 1s 48ms/step - loss: 0.1453 - auc_2: 0.9805 - val_loss: 0.2987 - val_auc_2: 0.9297\n",
            "Epoch 126/160\n",
            "19/19 [==============================] - 1s 48ms/step - loss: 0.1463 - auc_2: 0.9801 - val_loss: 0.3026 - val_auc_2: 0.9282\n",
            "Epoch 127/160\n",
            "19/19 [==============================] - 1s 49ms/step - loss: 0.1447 - auc_2: 0.9806 - val_loss: 0.2972 - val_auc_2: 0.9314\n",
            "Epoch 128/160\n",
            "19/19 [==============================] - 1s 50ms/step - loss: 0.1453 - auc_2: 0.9804 - val_loss: 0.3053 - val_auc_2: 0.9268\n",
            "Epoch 129/160\n",
            "19/19 [==============================] - 1s 49ms/step - loss: 0.1437 - auc_2: 0.9809 - val_loss: 0.3088 - val_auc_2: 0.9273\n",
            "Epoch 130/160\n",
            "19/19 [==============================] - 1s 48ms/step - loss: 0.1446 - auc_2: 0.9807 - val_loss: 0.2980 - val_auc_2: 0.9298\n",
            "Epoch 131/160\n",
            "19/19 [==============================] - 1s 49ms/step - loss: 0.1429 - auc_2: 0.9811 - val_loss: 0.2986 - val_auc_2: 0.9302\n",
            "Epoch 132/160\n",
            "19/19 [==============================] - 1s 49ms/step - loss: 0.1435 - auc_2: 0.9808 - val_loss: 0.2967 - val_auc_2: 0.9296\n",
            "Epoch 133/160\n",
            "19/19 [==============================] - 1s 48ms/step - loss: 0.1428 - auc_2: 0.9812 - val_loss: 0.2962 - val_auc_2: 0.9301\n",
            "Epoch 134/160\n",
            "19/19 [==============================] - 1s 49ms/step - loss: 0.1412 - auc_2: 0.9817 - val_loss: 0.2985 - val_auc_2: 0.9300\n",
            "Epoch 135/160\n",
            "19/19 [==============================] - 1s 47ms/step - loss: 0.1426 - auc_2: 0.9812 - val_loss: 0.2929 - val_auc_2: 0.9321\n",
            "Epoch 136/160\n",
            "19/19 [==============================] - 1s 50ms/step - loss: 0.1416 - auc_2: 0.9813 - val_loss: 0.2993 - val_auc_2: 0.9299\n",
            "Epoch 137/160\n",
            "19/19 [==============================] - 1s 49ms/step - loss: 0.1412 - auc_2: 0.9817 - val_loss: 0.2962 - val_auc_2: 0.9318\n",
            "Epoch 138/160\n",
            "19/19 [==============================] - 1s 48ms/step - loss: 0.1426 - auc_2: 0.9810 - val_loss: 0.2976 - val_auc_2: 0.9318\n",
            "Epoch 139/160\n",
            "19/19 [==============================] - 1s 47ms/step - loss: 0.1416 - auc_2: 0.9816 - val_loss: 0.3032 - val_auc_2: 0.9305\n",
            "Epoch 140/160\n",
            "19/19 [==============================] - 1s 51ms/step - loss: 0.1415 - auc_2: 0.9815 - val_loss: 0.2972 - val_auc_2: 0.9306\n",
            "Epoch 141/160\n",
            "19/19 [==============================] - 1s 51ms/step - loss: 0.1411 - auc_2: 0.9816 - val_loss: 0.3042 - val_auc_2: 0.9292\n",
            "Epoch 142/160\n",
            "19/19 [==============================] - 1s 51ms/step - loss: 0.1383 - auc_2: 0.9824 - val_loss: 0.2985 - val_auc_2: 0.9315\n",
            "Epoch 143/160\n",
            "19/19 [==============================] - 1s 48ms/step - loss: 0.1400 - auc_2: 0.9819 - val_loss: 0.3001 - val_auc_2: 0.9308\n",
            "Epoch 144/160\n",
            "19/19 [==============================] - 1s 49ms/step - loss: 0.1378 - auc_2: 0.9825 - val_loss: 0.2930 - val_auc_2: 0.9331\n",
            "Epoch 145/160\n",
            "19/19 [==============================] - 1s 50ms/step - loss: 0.1393 - auc_2: 0.9820 - val_loss: 0.3014 - val_auc_2: 0.9300\n",
            "Epoch 146/160\n",
            "19/19 [==============================] - 1s 51ms/step - loss: 0.1394 - auc_2: 0.9820 - val_loss: 0.2959 - val_auc_2: 0.9337\n",
            "Epoch 147/160\n",
            "19/19 [==============================] - 1s 49ms/step - loss: 0.1380 - auc_2: 0.9823 - val_loss: 0.3013 - val_auc_2: 0.9319\n",
            "Epoch 148/160\n",
            "19/19 [==============================] - 1s 51ms/step - loss: 0.1386 - auc_2: 0.9820 - val_loss: 0.2880 - val_auc_2: 0.9350\n",
            "Epoch 149/160\n",
            "19/19 [==============================] - 1s 50ms/step - loss: 0.1384 - auc_2: 0.9821 - val_loss: 0.3009 - val_auc_2: 0.9315\n",
            "Epoch 150/160\n",
            "19/19 [==============================] - 1s 50ms/step - loss: 0.1373 - auc_2: 0.9826 - val_loss: 0.2952 - val_auc_2: 0.9330\n",
            "Epoch 151/160\n",
            "19/19 [==============================] - 1s 49ms/step - loss: 0.1380 - auc_2: 0.9822 - val_loss: 0.3039 - val_auc_2: 0.9321\n",
            "Epoch 152/160\n",
            "19/19 [==============================] - 1s 49ms/step - loss: 0.1364 - auc_2: 0.9827 - val_loss: 0.2924 - val_auc_2: 0.9342\n",
            "Epoch 153/160\n",
            "19/19 [==============================] - 1s 49ms/step - loss: 0.1373 - auc_2: 0.9825 - val_loss: 0.2902 - val_auc_2: 0.9345\n",
            "Epoch 154/160\n",
            "19/19 [==============================] - 1s 48ms/step - loss: 0.1359 - auc_2: 0.9830 - val_loss: 0.2979 - val_auc_2: 0.9329\n",
            "Epoch 155/160\n",
            "19/19 [==============================] - 1s 51ms/step - loss: 0.1374 - auc_2: 0.9824 - val_loss: 0.3034 - val_auc_2: 0.9314\n",
            "Epoch 156/160\n",
            "19/19 [==============================] - 1s 50ms/step - loss: 0.1366 - auc_2: 0.9826 - val_loss: 0.2930 - val_auc_2: 0.9353\n",
            "Epoch 157/160\n",
            "19/19 [==============================] - 1s 49ms/step - loss: 0.1368 - auc_2: 0.9826 - val_loss: 0.2945 - val_auc_2: 0.9349\n",
            "Epoch 158/160\n",
            "19/19 [==============================] - 1s 49ms/step - loss: 0.1346 - auc_2: 0.9833 - val_loss: 0.2974 - val_auc_2: 0.9340\n",
            "Epoch 159/160\n",
            "19/19 [==============================] - 1s 49ms/step - loss: 0.1360 - auc_2: 0.9829 - val_loss: 0.2993 - val_auc_2: 0.9336\n",
            "Epoch 160/160\n",
            "19/19 [==============================] - 1s 48ms/step - loss: 0.1349 - auc_2: 0.9831 - val_loss: 0.2974 - val_auc_2: 0.9340\n"
          ],
          "name": "stdout"
        }
      ]
    },
    {
      "cell_type": "code",
      "metadata": {
        "colab": {
          "base_uri": "https://localhost:8080/"
        },
        "id": "P1JcD1JP6Lwy",
        "outputId": "2d4fbc62-2861-406b-dd9b-864ca535b51b"
      },
      "source": [
        "model.summary()"
      ],
      "execution_count": null,
      "outputs": [
        {
          "output_type": "stream",
          "text": [
            "Model: \"deep_fm_2\"\n",
            "_________________________________________________________________\n",
            "Layer (type)                 Output Shape              Param #   \n",
            "=================================================================\n",
            "embedding_2 (Embedding)      multiple                  965408    \n",
            "_________________________________________________________________\n",
            "fm_2 (FM)                    multiple                  241352    \n",
            "_________________________________________________________________\n",
            "dnn_2 (DNN)                  multiple                  28352     \n",
            "_________________________________________________________________\n",
            "dense_8 (Dense)              multiple                  65        \n",
            "=================================================================\n",
            "Total params: 1,235,177\n",
            "Trainable params: 1,235,177\n",
            "Non-trainable params: 0\n",
            "_________________________________________________________________\n"
          ],
          "name": "stdout"
        }
      ]
    },
    {
      "cell_type": "code",
      "metadata": {
        "id": "3mTmou27fcCb"
      },
      "source": [
        "keys_list = list(history.history.keys())"
      ],
      "execution_count": null,
      "outputs": []
    },
    {
      "cell_type": "code",
      "metadata": {
        "colab": {
          "base_uri": "https://localhost:8080/"
        },
        "id": "S2vCopJSrOld",
        "outputId": "92aa52f1-40e3-4869-fefb-c5e0e7fdb0cc"
      },
      "source": [
        "keys_list"
      ],
      "execution_count": null,
      "outputs": [
        {
          "output_type": "execute_result",
          "data": {
            "text/plain": [
              "['loss', 'auc_2', 'val_loss', 'val_auc_2']"
            ]
          },
          "metadata": {
            "tags": []
          },
          "execution_count": 92
        }
      ]
    },
    {
      "cell_type": "code",
      "metadata": {
        "colab": {
          "base_uri": "https://localhost:8080/",
          "height": 499
        },
        "id": "TNZdgoL6vXMD",
        "outputId": "18b17544-a64f-4ef9-9aca-30129a75132f"
      },
      "source": [
        "import matplotlib.pyplot as plt\n",
        "\n",
        "acc = history.history[keys_list[1]]\n",
        "val_acc = history.history[keys_list[3]]\n",
        "\n",
        "loss = history.history[keys_list[0]]\n",
        "val_loss = history.history[keys_list[2]]\n",
        "\n",
        "epochs_range = range(epochs)\n",
        "\n",
        "plt.figure(figsize=(8, 8))\n",
        "plt.subplot(1, 2, 1)\n",
        "plt.plot(epochs_range, acc, label='Training Accuracy')\n",
        "plt.plot(epochs_range, val_acc, label='Validation Accuracy')\n",
        "plt.legend(loc='lower right')\n",
        "plt.title('Training and Validation Accuracy')\n",
        "\n",
        "plt.subplot(1, 2, 2)\n",
        "plt.plot(epochs_range, loss, label='Training Loss')\n",
        "plt.plot(epochs_range, val_loss, label='Validation Loss')\n",
        "plt.legend(loc='upper right')\n",
        "plt.title('Training and Validation Loss')\n",
        "plt.show()"
      ],
      "execution_count": null,
      "outputs": [
        {
          "output_type": "display_data",
          "data": {
            "image/png": "[encoded data removed]",
            "text/plain": [
              "<Figure size 576x576 with 2 Axes>"
            ]
          },
          "metadata": {
            "tags": [],
            "needs_background": "light"
          }
        }
      ]
    },
    {
      "cell_type": "code",
      "metadata": {
        "id": "kqpzry8bL20L"
      },
      "source": [
        ""
      ],
      "execution_count": null,
      "outputs": []
    }
  ]
}